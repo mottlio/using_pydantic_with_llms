{
 "cells": [
  {
   "cell_type": "markdown",
   "id": "b1951a6f",
   "metadata": {},
   "source": [
    "Structured responses from LLM APIs and tool calling are the two key use cases for Pydantic in the context of LLMs. \n",
    "\n",
    "Tool calling (or function calling) is a way of connecting an external LLM to other APIs - a piece of functionality we may give the model access to in order to generate a response to a prompt. \n",
    "\n",
    "We could give the model access to tools that:\n",
    "\n",
    "    - Get today's weather for a location (external API)\n",
    "    - Access account details for a given user ID\n",
    "    - Issue refunds for a lost order\n",
    "\n",
    "or any other source that we would like the model to pull additional context information from when responding to a prompt.\n",
    "\n",
    "The way this process works is illustrated on the diagram below:\n",
    "\n",
    "![AI tool use process](function-calling-diagram-steps.png)"
   ]
  },
  {
   "cell_type": "markdown",
   "id": "626d6072",
   "metadata": {},
   "source": [
    "When tools are available, the model examines a prompt, and then may determine that in order to follow the instructions in the prompt, it needs to call one of the tools made available to it.\n",
    "\n",
    "When calling these tools (making an API call) data needs to be in the correct, valid format."
   ]
  },
  {
   "cell_type": "code",
   "execution_count": 3,
   "id": "602fecb1",
   "metadata": {},
   "outputs": [],
   "source": [
    "# Import packages\n",
    "from pydantic import BaseModel, Field, EmailStr, field_validator\n",
    "from pydantic_ai import Agent\n",
    "from typing import Literal, List, Optional\n",
    "from datetime import datetime, date\n",
    "import json\n",
    "from openai import OpenAI\n",
    "import anthropic\n",
    "import instructor\n",
    "from dotenv import load_dotenv\n",
    "load_dotenv()\n",
    "import nest_asyncio\n",
    "nest_asyncio.apply()"
   ]
  },
  {
   "cell_type": "markdown",
   "id": "3a086752",
   "metadata": {},
   "source": [
    "Define a Pydantic model using the typing library and a special field_validator function to check the format of the 'order_id' field using regular expressions."
   ]
  },
  {
   "cell_type": "code",
   "execution_count": 4,
   "id": "13ca8114",
   "metadata": {},
   "outputs": [],
   "source": [
    "# Define your UserInput model\n",
    "class UserInput(BaseModel):\n",
    "    name: str = Field(..., description=\"User's name\")\n",
    "    email: EmailStr = Field(..., description=\"User's email address\")\n",
    "    query: str = Field(..., description=\"User's query\")\n",
    "    order_id: Optional[str] = Field(\n",
    "        None,\n",
    "        description=\"Order ID if available (format: ABC-12345)\"\n",
    "    )\n",
    "    # Validate order_id format (e.g., ABC-12345)\n",
    "    @field_validator(\"order_id\")\n",
    "    def validate_order_id(cls, order_id):\n",
    "        import re\n",
    "        if order_id is None:\n",
    "            return order_id\n",
    "        pattern = r\"^[A-Z]{3}-\\d{5}$\"\n",
    "        if not re.match(pattern, order_id):\n",
    "            raise ValueError(\n",
    "                \"order_id must be in format ABC-12345 \"\n",
    "                \"(3 uppercase letters, dash, 5 digits)\"\n",
    "            )\n",
    "        return order_id\n",
    "    purchase_date: Optional[date] = None\n"
   ]
  },
  {
   "cell_type": "markdown",
   "id": "11d7ccc4",
   "metadata": {},
   "source": [
    "Define a CustomerQuery Pydantic model that inherits from the UserInput model - ie. it contains all the fields in the UserInput model plus some new ones."
   ]
  },
  {
   "cell_type": "code",
   "execution_count": 5,
   "id": "e1ce8229",
   "metadata": {},
   "outputs": [],
   "source": [
    "# Define your CustomerQuery model\n",
    "class CustomerQuery(UserInput):\n",
    "    priority: str = Field(\n",
    "        ..., description=\"Priority level: low, medium, high\"\n",
    "    )\n",
    "    category: Literal[\n",
    "        'refund_request', 'information_request', 'other'\n",
    "    ] = Field(..., description=\"Query category\")\n",
    "    is_complaint: bool = Field(\n",
    "        ..., description=\"Whether this is a complaint\"\n",
    "    )\n",
    "    tags: List[str] = Field(..., description=\"Relevant keyword tags\")"
   ]
  },
  {
   "cell_type": "markdown",
   "id": "a446b393",
   "metadata": {},
   "source": [
    "Data validation steps in a project where user input (question, comment, feedback) is passed to an LLM given access to tools.\n",
    "![Validation flow](diagram_1.png) "
   ]
  },
  {
   "cell_type": "code",
   "execution_count": 6,
   "id": "64a62571",
   "metadata": {},
   "outputs": [],
   "source": [
    "# Define a function to validate user input (1st step in the diagram above) - no LLMs involved...\n",
    "def validate_user_input(user_json: str):\n",
    "    \"\"\"Validate user input from a JSON string and return a UserInput \n",
    "    instance if valid.\"\"\"\n",
    "    try:\n",
    "        user_input = (\n",
    "            UserInput.model_validate_json(user_json)\n",
    "        )\n",
    "        print(\"user input validated...\")\n",
    "        return user_input\n",
    "    except Exception as e:\n",
    "        print(f\" Unexpected error: {e}\")\n",
    "        return None"
   ]
  },
  {
   "cell_type": "code",
   "execution_count": 7,
   "id": "16658ac8",
   "metadata": {},
   "outputs": [],
   "source": [
    "# Define a function to call an LLM using Pydantic AI to create an instance of CustomerQuery. It takes user input in valid JSON format as input. It outputs an instance of CustomerQuery.\n",
    "def create_customer_query(valid_user_json: str) -> CustomerQuery:\n",
    "    customer_query_agent = Agent(\n",
    "        model=\"google-gla:gemini-2.0-flash\",\n",
    "        output_type=CustomerQuery,\n",
    "    )\n",
    "    response = customer_query_agent.run_sync(valid_user_json)\n",
    "    print(\"CustomerQuery generated...\")\n",
    "    return response.output"
   ]
  },
  {
   "cell_type": "markdown",
   "id": "a408dfdc",
   "metadata": {},
   "source": [
    "Try out user input validation on sample data"
   ]
  },
  {
   "cell_type": "code",
   "execution_count": 8,
   "id": "a88ba251",
   "metadata": {},
   "outputs": [
    {
     "name": "stdout",
     "output_type": "stream",
     "text": [
      "user input validated...\n",
      "CustomerQuery generated...\n",
      "<class '__main__.CustomerQuery'>\n",
      "{\n",
      "  \"name\": \"Aga Mucha\",\n",
      "  \"email\": \"aga.mucha@interia.pl\",\n",
      "  \"query\": \"When can I expect delivery of the headphones I ordered?\",\n",
      "  \"order_id\": \"ABC-12345\",\n",
      "  \"purchase_date\": \"2025-02-01\",\n",
      "  \"priority\": \"medium\",\n",
      "  \"category\": \"information_request\",\n",
      "  \"is_complaint\": false,\n",
      "  \"tags\": [\n",
      "    \"delivery\",\n",
      "    \"headphones\"\n",
      "  ]\n",
      "}\n"
     ]
    }
   ],
   "source": [
    "# Define user input JSON data\n",
    "user_input_json = '''\n",
    "{\n",
    "    \"name\": \"Aga Mucha\",\n",
    "    \"email\": \"aga.mucha@interia.pl\",\n",
    "    \"query\": \"When can I expect delivery of the headphones I ordered?\",\n",
    "    \"order_id\": \"ABC-12345\",\n",
    "    \"purchase_date\": \"2025-02-01\"\n",
    "}\n",
    "'''\n",
    "# Validate user input and create a CustomerQuery\n",
    "valid_data = validate_user_input(user_input_json).model_dump_json()\n",
    "customer_query = create_customer_query(valid_data)\n",
    "print(type(customer_query))\n",
    "print(customer_query.model_dump_json(indent=2))"
   ]
  },
  {
   "cell_type": "markdown",
   "id": "787d0436",
   "metadata": {},
   "source": [
    "I'll be using a Q&A search tool. It will take two arguments: query and tags (a list of tags). I'll define a Pydantic model representing the expected format of the data."
   ]
  },
  {
   "cell_type": "code",
   "execution_count": null,
   "id": "afdaea89",
   "metadata": {},
   "outputs": [],
   "source": [
    "# Define FAQ Lookup tool input as a Pydantic model\n",
    "class FAQLookupArgs(BaseModel):\n",
    "    query: str = Field(..., description=\"User's query\") \n",
    "    tags: List[str] = Field(\n",
    "        ..., description=\"Relevant keyword tags from the customer query\"\n",
    "    )"
   ]
  },
  {
   "cell_type": "markdown",
   "id": "d68e3758",
   "metadata": {},
   "source": [
    "I'll use a second tool that checks the status of an order."
   ]
  },
  {
   "cell_type": "code",
   "execution_count": null,
   "id": "62cc9691",
   "metadata": {},
   "outputs": [],
   "source": [
    "# Define Check Order Status tool input as a Pydantic model\n",
    "class CheckOrderStatusArgs(BaseModel):\n",
    "    order_id: str = Field(\n",
    "        ..., description=\"Customer's order ID (format: ABC-12345)\"\n",
    "    )\n",
    "    email: EmailStr = Field(..., description=\"Customer's email address\")\n",
    "\n",
    "    @field_validator(\"order_id\")\n",
    "    def validate_order_id(order_id):\n",
    "        import re\n",
    "        pattern = r\"^[A-Z]{3}-\\d{5}$\"\n",
    "        if not re.match(pattern, order_id):\n",
    "            raise ValueError(\n",
    "                \"order_id must be in format ABC-12345 \"\n",
    "                \"(3 uppercase letters, dash, 5 digits)\"\n",
    "            )\n",
    "        return order_id"
   ]
  },
  {
   "cell_type": "code",
   "execution_count": null,
   "id": "2dd04f45",
   "metadata": {},
   "outputs": [],
   "source": [
    "# Create a sample Q&A list with the question, answer and keywords fields\n",
    "sample_faq = [\n",
    "    {\n",
    "        \"question\": \"What is the return policy?\",\n",
    "        \"answer\": (\n",
    "            \"You can return most items within 30 days of delivery \"\n",
    "            \"for a full refund.\"\n",
    "        ),\n",
    "        \"keywords\": [\"return\", \"refund\", \"policy\"]\n",
    "    },\n",
    "    {\n",
    "        \"question\": \"How long does shipping take?\",\n",
    "        \"answer\": (\n",
    "            \"Standard shipping usually takes 5-7 business days. \"\n",
    "            \"Expedited options are available at checkout.\"\n",
    "        ),\n",
    "        \"keywords\": [\"shipping\", \"delivery\", \"time\"]\n",
    "    },\n",
    "    {\n",
    "        \"question\": \"How can I track my order?\",\n",
    "        \"answer\": (\n",
    "            \"Once your order ships, you'll receive an email with \"\n",
    "            \"tracking information.\"\n",
    "        ),\n",
    "        \"keywords\": [\"track\", \"order\", \"tracking\"]\n",
    "    },\n",
    "    {\n",
    "        \"question\": \"Can I change my shipping address?\",\n",
    "        \"answer\": (\n",
    "            \"You can change your shipping address before your order \"\n",
    "            \"ships by contacting customer support.\"\n",
    "        ),\n",
    "        \"keywords\": [\"change\", \"shipping\", \"address\"]\n",
    "    },\n",
    "    {\n",
    "        \"question\": \"What payment methods do you accept?\",\n",
    "        \"answer\": (\n",
    "            \"We accept Visa, MasterCard, American Express, PayPal, \"\n",
    "            \"and Apple Pay.\"\n",
    "        ),\n",
    "        \"keywords\": [\"payment\", \"methods\", \"accept\"]\n",
    "    }\n",
    "]"
   ]
  },
  {
   "cell_type": "code",
   "execution_count": null,
   "id": "e97afa4c",
   "metadata": {},
   "outputs": [],
   "source": [
    "# Create a sample order database with order_id as key and status, purchase_date, estimated_delivery, email as values\n",
    "sample_orders = {\n",
    "    \"ABC-12345\": {\n",
    "        \"status\": \"Shipped\",\n",
    "        \"purchase_date\": \"2025-02-01\",\n",
    "        \"estimated_delivery\": \"2025-02-08\",\n",
    "        \"email\": \"aga.mucha@interia.pl\"\n",
    "    },\n",
    "    \"DEF-67890\": {\n",
    "        \"status\": \"Processing\",\n",
    "        \"purchase_date\": \"2025-02-10\",\n",
    "        \"estimated_delivery\": \"2025-02-15\",\n",
    "        \"email\": \"john.doe@example.com\"\n",
    "    },\n",
    "    \"GHI-54321\": {\n",
    "        \"status\": \"Delivered\",\n",
    "        \"purchase_date\": \"2025-01-25\",\n",
    "        \"estimated_delivery\": \"2025-01-30\",\n",
    "        \"email\": \"jane.smith@example.com\"\n",
    "    },\n",
    "    \"JKL-09876\": {\n",
    "        \"status\": \"Cancelled\",\n",
    "        \"purchase_date\": \"2025-02-05\",\n",
    "        \"estimated_delivery\": \"2025-02-12\",\n",
    "        \"email\": \"bob.johnson@example.com\"\n",
    "    }\n",
    "}\n"
   ]
  },
  {
   "cell_type": "code",
   "execution_count": null,
   "id": "cb24a476",
   "metadata": {},
   "outputs": [],
   "source": [
    "# Define a Q&A search tool function\n",
    "# The function takes FAQLookupArgs as input (query string and tags list of strings) and returns the best matching FAQ answer as a string.\n",
    "def lookup_faq_answer(args: FAQLookupArgs) -> str:\n",
    "    \"\"\"Look up an FAQ answer by matching tags and words in query \n",
    "    to FAQ entry keywords.\"\"\"\n",
    "    #I will use a simple keyword matching approach for this example.\n",
    "    # query_words, tag_set, keywords are sets of lowercase words. The score will be calculated based on the length of their intersection (elements in common).\n",
    "    query_words = set(word.lower() for word in args.query.split())\n",
    "    tag_set = set(tag.lower() for tag in args.tags)\n",
    "    best_match = None\n",
    "    best_score = 0\n",
    "    for faq in faq_db:\n",
    "        keywords = set(k.lower() for k in faq[\"keywords\"])\n",
    "        score = len(keywords & tag_set) + len(keywords & query_words)\n",
    "        if score > best_score:\n",
    "            best_score = score\n",
    "            best_match = faq\n",
    "    if best_match and best_score > 0:\n",
    "        return best_match[\"answer\"]\n",
    "    return \"Sorry, I couldn't find an FAQ answer for your question.\""
   ]
  },
  {
   "cell_type": "code",
   "execution_count": null,
   "id": "35401aa5",
   "metadata": {},
   "outputs": [],
   "source": [
    "# Define your check order status tool\n",
    "# The function takes CheckOrderStatusArgs as input (order_id string and email string) and returns a dictionary with order status information.\n",
    "def check_order_status(args: CheckOrderStatusArgs):\n",
    "    \"\"\"Simulate checking the status of a customer's order by \n",
    "    order_id and email.\"\"\"\n",
    "    order = order_db.get(args.order_id)\n",
    "    if not order:\n",
    "        return {\n",
    "            \"order_id\": args.order_id,\n",
    "            \"status\": \"not found\",\n",
    "            \"estimated_delivery\": None,\n",
    "            \"note\": \"order_id not found\"\n",
    "        }\n",
    "    if args.email.lower() != order.get(\"email\", \"\").lower():\n",
    "        return {\n",
    "            \"order_id\": args.order_id,\n",
    "            \"status\": order[\"status\"],\n",
    "            \"estimated_delivery\": order[\"estimated_delivery\"],\n",
    "            \"note\": \"order_id found but email mismatch\"\n",
    "        }\n",
    "    return {\n",
    "        \"order_id\": args.order_id,\n",
    "        \"status\": order[\"status\"],\n",
    "        \"estimated_delivery\": order[\"estimated_delivery\"],\n",
    "        \"note\": \"order_id and email match\"\n",
    "    }"
   ]
  },
  {
   "cell_type": "markdown",
   "id": "ce5ff8f5",
   "metadata": {},
   "source": [
    "In this step, I'll define the tools for the OpenAi tool API call\n",
    "The documentation for the tool calling API is [here](https://platform.openai.com/docs/guides/function-calling?lang=python)"
   ]
  },
  {
   "cell_type": "code",
   "execution_count": null,
   "id": "9e53b6d5",
   "metadata": {},
   "outputs": [],
   "source": []
  }
 ],
 "metadata": {
  "kernelspec": {
   "display_name": ".venv (3.13.2)",
   "language": "python",
   "name": "python3"
  },
  "language_info": {
   "codemirror_mode": {
    "name": "ipython",
    "version": 3
   },
   "file_extension": ".py",
   "mimetype": "text/x-python",
   "name": "python",
   "nbconvert_exporter": "python",
   "pygments_lexer": "ipython3",
   "version": "3.13.2"
  }
 },
 "nbformat": 4,
 "nbformat_minor": 5
}
