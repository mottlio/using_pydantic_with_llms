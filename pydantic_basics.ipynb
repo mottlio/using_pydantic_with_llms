{
 "cells": [
  {
   "cell_type": "markdown",
   "id": "5df994df",
   "metadata": {},
   "source": [
    "My first objective is to create a Pydantic model to validate user input data in a fictional customer support system.\n",
    "I'll use venv to create a virtual environment .venv into which I'll install the IPkernel and Pydantic packages (it's a best practice and will prevent any conflicts with packages installed in the global environment). You'll also need to `pip install pydantic[email]` - the email validator."
   ]
  },
  {
   "cell_type": "code",
   "execution_count": 16,
   "id": "0025b767",
   "metadata": {},
   "outputs": [],
   "source": [
    "# Import the pydantic and json libraries\n",
    "from pydantic import BaseModel, ValidationError, EmailStr, Field\n",
    "from typing import Optional\n",
    "from datetime import date\n",
    "import json"
   ]
  },
  {
   "cell_type": "markdown",
   "id": "d41dd155",
   "metadata": {},
   "source": [
    "## Define a Pydantic model for user input and populate it with some sample data"
   ]
  },
  {
   "cell_type": "code",
   "execution_count": 17,
   "id": "9e7cd308",
   "metadata": {},
   "outputs": [],
   "source": [
    "# Create a Pydantic model to validate user input data consisting of a customer_number (int), email (str), and issue_description (str).\n",
    "class UserInput(BaseModel):\n",
    "    customer_number: int\n",
    "    email: EmailStr\n",
    "    issue_description: str\n",
    "    \n",
    "# Sample data to populate the model\n",
    "sample_data = {\n",
    "    \"customer_number\": 12345,\n",
    "    \"email\": \"  user@example.com  \",\n",
    "    \"issue_description\": \"I am unable to access my account.\"\n",
    "}"
   ]
  },
  {
   "cell_type": "markdown",
   "id": "b0c1f063",
   "metadata": {},
   "source": [
    "Validate the sample data"
   ]
  },
  {
   "cell_type": "code",
   "execution_count": 18,
   "id": "24ae61da",
   "metadata": {},
   "outputs": [
    {
     "name": "stdout",
     "output_type": "stream",
     "text": [
      "customer_number=12345 email='user@example.com' issue_description='I am unable to access my account.'\n"
     ]
    }
   ],
   "source": [
    "# Validate sample_data\n",
    "\n",
    "user_input = UserInput(**sample_data)\n",
    "\n",
    "print(user_input)"
   ]
  },
  {
   "cell_type": "markdown",
   "id": "c696b1c9",
   "metadata": {},
   "source": [
    "Create an error on purpose - string instead of number and no email"
   ]
  },
  {
   "cell_type": "code",
   "execution_count": 19,
   "id": "47067a40",
   "metadata": {},
   "outputs": [
    {
     "name": "stdout",
     "output_type": "stream",
     "text": [
      "[{\"type\":\"int_parsing\",\"loc\":[\"customer_number\"],\"msg\":\"Input should be a valid integer, unable to parse string as an integer\",\"input\":\"not_a_number\",\"url\":\"https://errors.pydantic.dev/2.11/v/int_parsing\"},{\"type\":\"value_error\",\"loc\":[\"email\"],\"msg\":\"value is not a valid email address: An email address must have an @-sign.\",\"input\":\"invalid_email\",\"ctx\":{\"reason\":\"An email address must have an @-sign.\"},\"url\":\"https://errors.pydantic.dev/2.11/v/value_error\"},{\"type\":\"string_type\",\"loc\":[\"issue_description\"],\"msg\":\"Input should be a valid string\",\"input\":6,\"url\":\"https://errors.pydantic.dev/2.11/v/string_type\"}]\n"
     ]
    }
   ],
   "source": [
    "# Populate model with invalid data to see validation errors\n",
    "invalid_data = {\n",
    "    \"customer_number\": \"not_a_number\",\n",
    "    \"email\": \"invalid_email\",\n",
    "    \"issue_description\": 6\n",
    "}\n",
    "\n",
    "#Run this cell below to see validation errors returned as JSON\n",
    "try:\n",
    "    #I'm using the UserInput model defined above to validate data\n",
    "    user_input = UserInput(**invalid_data)\n",
    "except ValidationError as e:\n",
    "    print(e.json()) "
   ]
  },
  {
   "cell_type": "code",
   "execution_count": null,
   "id": "12bc5bd8",
   "metadata": {},
   "outputs": [],
   "source": [
    "# Create a function that takes a dictionary as input, validates it against the UserInput model, and returns either the validated data or the validation errors.\n",
    "def validate_user_input(data: dict):\n",
    "    try:\n",
    "        user_input = UserInput(**data)\n",
    "        print(f\"✅ Valid user input created:\")\n",
    "        #Print out the JSON representation of the validated data with indentation for readability\n",
    "        print(f\"{user_input.model_dump_json(indent=2)}\")\n",
    "        return user_input\n",
    "    except ValidationError as e:\n",
    "        print(f\"❌ Validation errors found:\")\n",
    "        print(f\"{e.json(indent=2)}\")\n",
    "        return e.json()"
   ]
  },
  {
   "cell_type": "code",
   "execution_count": 21,
   "id": "878c5890",
   "metadata": {},
   "outputs": [
    {
     "name": "stdout",
     "output_type": "stream",
     "text": [
      "❌ Validation errors found:\n",
      "[\n",
      "  {\n",
      "    \"type\": \"int_parsing\",\n",
      "    \"loc\": [\n",
      "      \"customer_number\"\n",
      "    ],\n",
      "    \"msg\": \"Input should be a valid integer, unable to parse string as an integer\",\n",
      "    \"input\": \"not_a_number\",\n",
      "    \"url\": \"https://errors.pydantic.dev/2.11/v/int_parsing\"\n",
      "  },\n",
      "  {\n",
      "    \"type\": \"value_error\",\n",
      "    \"loc\": [\n",
      "      \"email\"\n",
      "    ],\n",
      "    \"msg\": \"value is not a valid email address: An email address must have an @-sign.\",\n",
      "    \"input\": \"invalid_email\",\n",
      "    \"ctx\": {\n",
      "      \"reason\": \"An email address must have an @-sign.\"\n",
      "    },\n",
      "    \"url\": \"https://errors.pydantic.dev/2.11/v/value_error\"\n",
      "  },\n",
      "  {\n",
      "    \"type\": \"string_type\",\n",
      "    \"loc\": [\n",
      "      \"issue_description\"\n",
      "    ],\n",
      "    \"msg\": \"Input should be a valid string\",\n",
      "    \"input\": 6,\n",
      "    \"url\": \"https://errors.pydantic.dev/2.11/v/string_type\"\n",
      "  }\n",
      "]\n"
     ]
    },
    {
     "data": {
      "text/plain": [
       "'[{\"type\":\"int_parsing\",\"loc\":[\"customer_number\"],\"msg\":\"Input should be a valid integer, unable to parse string as an integer\",\"input\":\"not_a_number\",\"url\":\"https://errors.pydantic.dev/2.11/v/int_parsing\"},{\"type\":\"value_error\",\"loc\":[\"email\"],\"msg\":\"value is not a valid email address: An email address must have an @-sign.\",\"input\":\"invalid_email\",\"ctx\":{\"reason\":\"An email address must have an @-sign.\"},\"url\":\"https://errors.pydantic.dev/2.11/v/value_error\"},{\"type\":\"string_type\",\"loc\":[\"issue_description\"],\"msg\":\"Input should be a valid string\",\"input\":6,\"url\":\"https://errors.pydantic.dev/2.11/v/string_type\"}]'"
      ]
     },
     "execution_count": 21,
     "metadata": {},
     "output_type": "execute_result"
    }
   ],
   "source": [
    "#Try to validate invalid data\n",
    "validate_user_input(invalid_data)"
   ]
  },
  {
   "cell_type": "code",
   "execution_count": 22,
   "id": "e6e237ec",
   "metadata": {},
   "outputs": [],
   "source": [
    "#Create invalid data with a missing field\n",
    "incomplete_data = {\n",
    "    \"customer_number\": 67890,\n",
    "    \"issue_description\": \"My order hasn't arrived yet.\"\n",
    "}"
   ]
  },
  {
   "cell_type": "code",
   "execution_count": 23,
   "id": "039b74a6",
   "metadata": {},
   "outputs": [
    {
     "name": "stdout",
     "output_type": "stream",
     "text": [
      "❌ Validation errors found:\n",
      "[\n",
      "  {\n",
      "    \"type\": \"missing\",\n",
      "    \"loc\": [\n",
      "      \"email\"\n",
      "    ],\n",
      "    \"msg\": \"Field required\",\n",
      "    \"input\": {\n",
      "      \"customer_number\": 67890,\n",
      "      \"issue_description\": \"My order hasn't arrived yet.\"\n",
      "    },\n",
      "    \"url\": \"https://errors.pydantic.dev/2.11/v/missing\"\n",
      "  }\n",
      "]\n"
     ]
    },
    {
     "data": {
      "text/plain": [
       "'[{\"type\":\"missing\",\"loc\":[\"email\"],\"msg\":\"Field required\",\"input\":{\"customer_number\":67890,\"issue_description\":\"My order hasn\\'t arrived yet.\"},\"url\":\"https://errors.pydantic.dev/2.11/v/missing\"}]'"
      ]
     },
     "execution_count": 23,
     "metadata": {},
     "output_type": "execute_result"
    }
   ],
   "source": [
    "# Try validating the incomplete data\n",
    "validate_user_input(incomplete_data)"
   ]
  },
  {
   "cell_type": "code",
   "execution_count": 24,
   "id": "49d2f92b",
   "metadata": {},
   "outputs": [],
   "source": [
    "# Create sample data with additional unexpected fields\n",
    "extra_data = {\n",
    "    \"customer_number\": 54321,\n",
    "    \"email\": \"extra@example.com\",\n",
    "    \"issue_description\": \"I have an extra field.\",\n",
    "    \"unexpected_field\": \"This field is not defined in the model.\"\n",
    "}"
   ]
  },
  {
   "cell_type": "code",
   "execution_count": 25,
   "id": "0432330c",
   "metadata": {},
   "outputs": [
    {
     "name": "stdout",
     "output_type": "stream",
     "text": [
      "✅ Valid user input created:\n",
      "{\n",
      "  \"customer_number\": 54321,\n",
      "  \"email\": \"extra@example.com\",\n",
      "  \"issue_description\": \"I have an extra field.\"\n",
      "}\n"
     ]
    },
    {
     "data": {
      "text/plain": [
       "UserInput(customer_number=54321, email='extra@example.com', issue_description='I have an extra field.')"
      ]
     },
     "execution_count": 25,
     "metadata": {},
     "output_type": "execute_result"
    }
   ],
   "source": [
    "# Validate the extra data (validated data will not include the extra field)\n",
    "validate_user_input(extra_data)"
   ]
  },
  {
   "cell_type": "code",
   "execution_count": 28,
   "id": "9c9f813e",
   "metadata": {},
   "outputs": [],
   "source": [
    "# Enhanced input model \n",
    "class UserInput(BaseModel):\n",
    "    customer_number: int\n",
    "    email: EmailStr\n",
    "    issue_description: str\n",
    "    order_id: Optional[int] = Field(\n",
    "        #Default is None\n",
    "        None,\n",
    "        description=\"5-digit order number (cannot start with 0)\",\n",
    "        # Greater than or equal to 10000 and less than or equal to 99999\n",
    "        ge=10000,\n",
    "        le=99999\n",
    "    )\n",
    "    transaction_date: Optional[date] = None"
   ]
  },
  {
   "cell_type": "code",
   "execution_count": 30,
   "id": "936a7da5",
   "metadata": {},
   "outputs": [
    {
     "name": "stdout",
     "output_type": "stream",
     "text": [
      "✅ Valid user input created:\n",
      "{\n",
      "  \"customer_number\": 11223,\n",
      "  \"email\": \"valid@example.com\",\n",
      "  \"issue_description\": \"My order hasn't arrived yet.\",\n",
      "  \"order_id\": 12345,\n",
      "  \"transaction_date\": \"2023-10-01\"\n",
      "}\n"
     ]
    },
    {
     "data": {
      "text/plain": [
       "UserInput(customer_number=11223, email='valid@example.com', issue_description=\"My order hasn't arrived yet.\", order_id=12345, transaction_date=datetime.date(2023, 10, 1))"
      ]
     },
     "execution_count": 30,
     "metadata": {},
     "output_type": "execute_result"
    }
   ],
   "source": [
    "# Test the enhanced model with valid data\n",
    "valid_enhanced_data = {\n",
    "    \"customer_number\": 11223,\n",
    "    \"email\": \"  valid@example.com  \",\n",
    "    \"issue_description\": \"My order hasn't arrived yet.\",\n",
    "    \"order_id\": 12345,\n",
    "    \"transaction_date\": \"2023-10-01\"\n",
    "}\n",
    "\n",
    "validate_user_input(valid_enhanced_data)"
   ]
  },
  {
   "cell_type": "code",
   "execution_count": 31,
   "id": "b704b792",
   "metadata": {},
   "outputs": [
    {
     "name": "stdout",
     "output_type": "stream",
     "text": [
      "✅ Valid user input created:\n",
      "{\n",
      "  \"customer_number\": 11223,\n",
      "  \"email\": \"valid@example.com\",\n",
      "  \"issue_description\": \"My order hasn't arrived yet.\",\n",
      "  \"order_id\": null,\n",
      "  \"transaction_date\": null\n",
      "}\n"
     ]
    },
    {
     "data": {
      "text/plain": [
       "UserInput(customer_number=11223, email='valid@example.com', issue_description=\"My order hasn't arrived yet.\", order_id=None, transaction_date=None)"
      ]
     },
     "execution_count": 31,
     "metadata": {},
     "output_type": "execute_result"
    }
   ],
   "source": [
    "valid_enhanced_data_short = {\n",
    "    \"customer_number\": 11223,\n",
    "    \"email\": \"  valid@example.com  \",\n",
    "    \"issue_description\": \"My order hasn't arrived yet.\"\n",
    "}\n",
    "\n",
    "validate_user_input(valid_enhanced_data_short)"
   ]
  },
  {
   "cell_type": "code",
   "execution_count": 32,
   "id": "b73a7c0a",
   "metadata": {},
   "outputs": [
    {
     "name": "stdout",
     "output_type": "stream",
     "text": [
      "✅ Valid user input created:\n",
      "{\n",
      "  \"customer_number\": 11223,\n",
      "  \"email\": \"valid@example.com\",\n",
      "  \"issue_description\": \"My order hasn't arrived yet.\",\n",
      "  \"order_id\": 12345,\n",
      "  \"transaction_date\": \"2023-10-01\"\n",
      "}\n",
      "customer_number=11223 email='valid@example.com' issue_description=\"My order hasn't arrived yet.\" order_id=12345 transaction_date=datetime.date(2023, 10, 1)\n"
     ]
    }
   ],
   "source": [
    "#Inspect validated data structure\n",
    "validated_data = validate_user_input(valid_enhanced_data)\n",
    "print(validated_data)"
   ]
  },
  {
   "cell_type": "code",
   "execution_count": 34,
   "id": "6dcbc54c",
   "metadata": {},
   "outputs": [
    {
     "name": "stdout",
     "output_type": "stream",
     "text": [
      "Parsed JSON: {'customer_number': 33445, 'email': '  valid@example.com  ', 'issue_description': \"My order hasn't arrived yet.\", 'order_id': 12345, 'transaction_date': '2023-10-01'}\n",
      "✅ Valid user input created:\n",
      "{\n",
      "  \"customer_number\": 33445,\n",
      "  \"email\": \"valid@example.com\",\n",
      "  \"issue_description\": \"My order hasn't arrived yet.\",\n",
      "  \"order_id\": 12345,\n",
      "  \"transaction_date\": \"2023-10-01\"\n",
      "}\n"
     ]
    },
    {
     "data": {
      "text/plain": [
       "UserInput(customer_number=33445, email='valid@example.com', issue_description=\"My order hasn't arrived yet.\", order_id=12345, transaction_date=datetime.date(2023, 10, 1))"
      ]
     },
     "execution_count": 34,
     "metadata": {},
     "output_type": "execute_result"
    }
   ],
   "source": [
    "# What if the valid data is in JSON format?\n",
    "valid_json_data = '''{\n",
    "    \"customer_number\": 33445,\n",
    "    \"email\": \"  valid@example.com  \",\n",
    "    \"issue_description\": \"My order hasn't arrived yet.\",\n",
    "    \"order_id\": 12345,\n",
    "    \"transaction_date\": \"2023-10-01\"\n",
    "}'''\n",
    "# Parse the JSON string into a Python dictionary that can be used as an argument in the validation function\n",
    "data_dict = json.loads(valid_json_data)\n",
    "print(\"Parsed JSON:\", data_dict)\n",
    "# Validate the parsed data\n",
    "validate_user_input(data_dict)"
   ]
  },
  {
   "cell_type": "code",
   "execution_count": 35,
   "id": "aadd91e9",
   "metadata": {},
   "outputs": [
    {
     "name": "stdout",
     "output_type": "stream",
     "text": [
      "Parsed JSON: {'customer_number': 'not_a_number', 'email': 'invalid_email', 'issue_description': 6}\n",
      "❌ Validation errors found:\n",
      "[\n",
      "  {\n",
      "    \"type\": \"int_parsing\",\n",
      "    \"loc\": [\n",
      "      \"customer_number\"\n",
      "    ],\n",
      "    \"msg\": \"Input should be a valid integer, unable to parse string as an integer\",\n",
      "    \"input\": \"not_a_number\",\n",
      "    \"url\": \"https://errors.pydantic.dev/2.11/v/int_parsing\"\n",
      "  },\n",
      "  {\n",
      "    \"type\": \"value_error\",\n",
      "    \"loc\": [\n",
      "      \"email\"\n",
      "    ],\n",
      "    \"msg\": \"value is not a valid email address: An email address must have an @-sign.\",\n",
      "    \"input\": \"invalid_email\",\n",
      "    \"ctx\": {\n",
      "      \"reason\": \"An email address must have an @-sign.\"\n",
      "    },\n",
      "    \"url\": \"https://errors.pydantic.dev/2.11/v/value_error\"\n",
      "  },\n",
      "  {\n",
      "    \"type\": \"string_type\",\n",
      "    \"loc\": [\n",
      "      \"issue_description\"\n",
      "    ],\n",
      "    \"msg\": \"Input should be a valid string\",\n",
      "    \"input\": 6,\n",
      "    \"url\": \"https://errors.pydantic.dev/2.11/v/string_type\"\n",
      "  }\n",
      "]\n"
     ]
    },
    {
     "data": {
      "text/plain": [
       "'[{\"type\":\"int_parsing\",\"loc\":[\"customer_number\"],\"msg\":\"Input should be a valid integer, unable to parse string as an integer\",\"input\":\"not_a_number\",\"url\":\"https://errors.pydantic.dev/2.11/v/int_parsing\"},{\"type\":\"value_error\",\"loc\":[\"email\"],\"msg\":\"value is not a valid email address: An email address must have an @-sign.\",\"input\":\"invalid_email\",\"ctx\":{\"reason\":\"An email address must have an @-sign.\"},\"url\":\"https://errors.pydantic.dev/2.11/v/value_error\"},{\"type\":\"string_type\",\"loc\":[\"issue_description\"],\"msg\":\"Input should be a valid string\",\"input\":6,\"url\":\"https://errors.pydantic.dev/2.11/v/string_type\"}]'"
      ]
     },
     "execution_count": 35,
     "metadata": {},
     "output_type": "execute_result"
    }
   ],
   "source": [
    "# Try invalid JSON data\n",
    "invalid_json_data = '''{\n",
    "    \"customer_number\": \"not_a_number\",\n",
    "    \"email\": \"invalid_email\",\n",
    "    \"issue_description\": 6\n",
    "}'''\n",
    "# Parse the invalid JSON string into a Python dictionary\n",
    "data_dict = json.loads(invalid_json_data)\n",
    "print(\"Parsed JSON:\", data_dict)\n",
    "# Validate the parsed data\n",
    "validate_user_input(data_dict)"
   ]
  },
  {
   "cell_type": "code",
   "execution_count": null,
   "id": "d992d984",
   "metadata": {},
   "outputs": [],
   "source": [
    "# Use the model_validate_json method to validate JSON data directly\n",
    "def validate_user_input_json(json_data: str):\n",
    "    try:\n",
    "        #This is a Pydantic v2 method to validate JSON data directly\n",
    "        user_input = UserInput.model_validate_json(json_data)\n",
    "        print(f\"✅ Valid user input created:\")\n",
    "        print(f\"{user_input.model_dump_json(indent=2)}\")\n",
    "        return user_input\n",
    "    except ValidationError as e:\n",
    "        print(f\"❌ Validation errors found:\")\n",
    "        print(f\"{e.json(indent=2)}\")\n",
    "        return e.json()"
   ]
  }
 ],
 "metadata": {
  "kernelspec": {
   "display_name": ".venv (3.13.2)",
   "language": "python",
   "name": "python3"
  },
  "language_info": {
   "codemirror_mode": {
    "name": "ipython",
    "version": 3
   },
   "file_extension": ".py",
   "mimetype": "text/x-python",
   "name": "python",
   "nbconvert_exporter": "python",
   "pygments_lexer": "ipython3",
   "version": "3.13.2"
  }
 },
 "nbformat": 4,
 "nbformat_minor": 5
}
