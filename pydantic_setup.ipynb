{
 "cells": [
  {
   "cell_type": "markdown",
   "id": "5df994df",
   "metadata": {},
   "source": [
    "My first objective is to create a Pydantic model to validate user input data in a fictional customer support system.\n",
    "I'll use venv to create a virtual environment .venv into which I'll install the IPkernel and Pydantic packages (it's a best practice and will prevent any conflicts with packages installed in the global environment). You'll also need to `pip install pydantic[email]` - the email validator."
   ]
  },
  {
   "cell_type": "code",
   "execution_count": 2,
   "id": "0025b767",
   "metadata": {},
   "outputs": [],
   "source": [
    "# Import the pydantic and json libraries\n",
    "from pydantic import BaseModel, ValidationError, EmailStr\n",
    "import json"
   ]
  },
  {
   "cell_type": "markdown",
   "id": "d41dd155",
   "metadata": {},
   "source": [
    "## Define a Pydantic model for user input and populate it with some sample data"
   ]
  },
  {
   "cell_type": "code",
   "execution_count": null,
   "id": "9e7cd308",
   "metadata": {},
   "outputs": [
    {
     "ename": "ImportError",
     "evalue": "email-validator is not installed, run `pip install pydantic[email]`",
     "output_type": "error",
     "traceback": [
      "\u001b[31m---------------------------------------------------------------------------\u001b[39m",
      "\u001b[31mModuleNotFoundError\u001b[39m                       Traceback (most recent call last)",
      "\u001b[36mFile \u001b[39m\u001b[32m~/Desktop/Developer/using_pydantic_with_llms/.venv/lib/python3.13/site-packages/pydantic/networks.py:946\u001b[39m, in \u001b[36mimport_email_validator\u001b[39m\u001b[34m()\u001b[39m\n\u001b[32m    945\u001b[39m \u001b[38;5;28;01mtry\u001b[39;00m:\n\u001b[32m--> \u001b[39m\u001b[32m946\u001b[39m     \u001b[38;5;28;01mimport\u001b[39;00m\u001b[38;5;250m \u001b[39m\u001b[34;01memail_validator\u001b[39;00m\n\u001b[32m    947\u001b[39m \u001b[38;5;28;01mexcept\u001b[39;00m \u001b[38;5;167;01mImportError\u001b[39;00m \u001b[38;5;28;01mas\u001b[39;00m e:\n",
      "\u001b[31mModuleNotFoundError\u001b[39m: No module named 'email_validator'",
      "\nThe above exception was the direct cause of the following exception:\n",
      "\u001b[31mImportError\u001b[39m                               Traceback (most recent call last)",
      "\u001b[36mCell\u001b[39m\u001b[36m \u001b[39m\u001b[32mIn[3]\u001b[39m\u001b[32m, line 2\u001b[39m\n\u001b[32m      1\u001b[39m \u001b[38;5;66;03m# Create a Pydantic model to validate user input data consisting of a customer_number (int), email (str), and issue_description (str).\u001b[39;00m\n\u001b[32m----> \u001b[39m\u001b[32m2\u001b[39m \u001b[38;5;28;43;01mclass\u001b[39;49;00m\u001b[38;5;250;43m \u001b[39;49m\u001b[34;43;01mUserInput\u001b[39;49;00m\u001b[43m(\u001b[49m\u001b[43mBaseModel\u001b[49m\u001b[43m)\u001b[49m\u001b[43m:\u001b[49m\n\u001b[32m      3\u001b[39m \u001b[43m    \u001b[49m\u001b[43mcustomer_number\u001b[49m\u001b[43m:\u001b[49m\u001b[43m \u001b[49m\u001b[38;5;28;43mint\u001b[39;49m\n\u001b[32m      4\u001b[39m \u001b[43m    \u001b[49m\u001b[43memail\u001b[49m\u001b[43m:\u001b[49m\u001b[43m \u001b[49m\u001b[43mEmailStr\u001b[49m\n",
      "\u001b[36mFile \u001b[39m\u001b[32m~/Desktop/Developer/using_pydantic_with_llms/.venv/lib/python3.13/site-packages/pydantic/_internal/_model_construction.py:237\u001b[39m, in \u001b[36mModelMetaclass.__new__\u001b[39m\u001b[34m(mcs, cls_name, bases, namespace, __pydantic_generic_metadata__, __pydantic_reset_parent_namespace__, _create_model_module, **kwargs)\u001b[39m\n\u001b[32m    233\u001b[39m     set_model_mocks(\u001b[38;5;28mcls\u001b[39m)\n\u001b[32m    234\u001b[39m \u001b[38;5;28;01melse\u001b[39;00m:\n\u001b[32m    235\u001b[39m     \u001b[38;5;66;03m# Any operation that requires accessing the field infos instances should be put inside\u001b[39;00m\n\u001b[32m    236\u001b[39m     \u001b[38;5;66;03m# `complete_model_class()`:\u001b[39;00m\n\u001b[32m--> \u001b[39m\u001b[32m237\u001b[39m     \u001b[43mcomplete_model_class\u001b[49m\u001b[43m(\u001b[49m\n\u001b[32m    238\u001b[39m \u001b[43m        \u001b[49m\u001b[38;5;28;43mcls\u001b[39;49m\u001b[43m,\u001b[49m\n\u001b[32m    239\u001b[39m \u001b[43m        \u001b[49m\u001b[43mconfig_wrapper\u001b[49m\u001b[43m,\u001b[49m\n\u001b[32m    240\u001b[39m \u001b[43m        \u001b[49m\u001b[43mraise_errors\u001b[49m\u001b[43m=\u001b[49m\u001b[38;5;28;43;01mFalse\u001b[39;49;00m\u001b[43m,\u001b[49m\n\u001b[32m    241\u001b[39m \u001b[43m        \u001b[49m\u001b[43mns_resolver\u001b[49m\u001b[43m=\u001b[49m\u001b[43mns_resolver\u001b[49m\u001b[43m,\u001b[49m\n\u001b[32m    242\u001b[39m \u001b[43m        \u001b[49m\u001b[43mcreate_model_module\u001b[49m\u001b[43m=\u001b[49m\u001b[43m_create_model_module\u001b[49m\u001b[43m,\u001b[49m\n\u001b[32m    243\u001b[39m \u001b[43m    \u001b[49m\u001b[43m)\u001b[49m\n\u001b[32m    245\u001b[39m \u001b[38;5;28;01mif\u001b[39;00m config_wrapper.frozen \u001b[38;5;129;01mand\u001b[39;00m \u001b[33m'\u001b[39m\u001b[33m__hash__\u001b[39m\u001b[33m'\u001b[39m \u001b[38;5;129;01mnot\u001b[39;00m \u001b[38;5;129;01min\u001b[39;00m namespace:\n\u001b[32m    246\u001b[39m     set_default_hash_func(\u001b[38;5;28mcls\u001b[39m, bases)\n",
      "\u001b[36mFile \u001b[39m\u001b[32m~/Desktop/Developer/using_pydantic_with_llms/.venv/lib/python3.13/site-packages/pydantic/_internal/_model_construction.py:597\u001b[39m, in \u001b[36mcomplete_model_class\u001b[39m\u001b[34m(cls, config_wrapper, raise_errors, ns_resolver, create_model_module)\u001b[39m\n\u001b[32m    590\u001b[39m gen_schema = GenerateSchema(\n\u001b[32m    591\u001b[39m     config_wrapper,\n\u001b[32m    592\u001b[39m     ns_resolver,\n\u001b[32m    593\u001b[39m     typevars_map,\n\u001b[32m    594\u001b[39m )\n\u001b[32m    596\u001b[39m \u001b[38;5;28;01mtry\u001b[39;00m:\n\u001b[32m--> \u001b[39m\u001b[32m597\u001b[39m     schema = \u001b[43mgen_schema\u001b[49m\u001b[43m.\u001b[49m\u001b[43mgenerate_schema\u001b[49m\u001b[43m(\u001b[49m\u001b[38;5;28;43mcls\u001b[39;49m\u001b[43m)\u001b[49m\n\u001b[32m    598\u001b[39m \u001b[38;5;28;01mexcept\u001b[39;00m PydanticUndefinedAnnotation \u001b[38;5;28;01mas\u001b[39;00m e:\n\u001b[32m    599\u001b[39m     \u001b[38;5;28;01mif\u001b[39;00m raise_errors:\n",
      "\u001b[36mFile \u001b[39m\u001b[32m~/Desktop/Developer/using_pydantic_with_llms/.venv/lib/python3.13/site-packages/pydantic/_internal/_generate_schema.py:711\u001b[39m, in \u001b[36mGenerateSchema.generate_schema\u001b[39m\u001b[34m(self, obj)\u001b[39m\n\u001b[32m    708\u001b[39m schema = \u001b[38;5;28mself\u001b[39m._generate_schema_from_get_schema_method(obj, obj)\n\u001b[32m    710\u001b[39m \u001b[38;5;28;01mif\u001b[39;00m schema \u001b[38;5;129;01mis\u001b[39;00m \u001b[38;5;28;01mNone\u001b[39;00m:\n\u001b[32m--> \u001b[39m\u001b[32m711\u001b[39m     schema = \u001b[38;5;28;43mself\u001b[39;49m\u001b[43m.\u001b[49m\u001b[43m_generate_schema_inner\u001b[49m\u001b[43m(\u001b[49m\u001b[43mobj\u001b[49m\u001b[43m)\u001b[49m\n\u001b[32m    713\u001b[39m metadata_js_function = _extract_get_pydantic_json_schema(obj)\n\u001b[32m    714\u001b[39m \u001b[38;5;28;01mif\u001b[39;00m metadata_js_function \u001b[38;5;129;01mis\u001b[39;00m \u001b[38;5;129;01mnot\u001b[39;00m \u001b[38;5;28;01mNone\u001b[39;00m:\n",
      "\u001b[36mFile \u001b[39m\u001b[32m~/Desktop/Developer/using_pydantic_with_llms/.venv/lib/python3.13/site-packages/pydantic/_internal/_generate_schema.py:1004\u001b[39m, in \u001b[36mGenerateSchema._generate_schema_inner\u001b[39m\u001b[34m(self, obj)\u001b[39m\n\u001b[32m   1002\u001b[39m \u001b[38;5;28;01mif\u001b[39;00m lenient_issubclass(obj, BaseModel):\n\u001b[32m   1003\u001b[39m     \u001b[38;5;28;01mwith\u001b[39;00m \u001b[38;5;28mself\u001b[39m.model_type_stack.push(obj):\n\u001b[32m-> \u001b[39m\u001b[32m1004\u001b[39m         \u001b[38;5;28;01mreturn\u001b[39;00m \u001b[38;5;28;43mself\u001b[39;49m\u001b[43m.\u001b[49m\u001b[43m_model_schema\u001b[49m\u001b[43m(\u001b[49m\u001b[43mobj\u001b[49m\u001b[43m)\u001b[49m\n\u001b[32m   1006\u001b[39m \u001b[38;5;28;01mif\u001b[39;00m \u001b[38;5;28misinstance\u001b[39m(obj, PydanticRecursiveRef):\n\u001b[32m   1007\u001b[39m     \u001b[38;5;28;01mreturn\u001b[39;00m core_schema.definition_reference_schema(schema_ref=obj.type_ref)\n",
      "\u001b[36mFile \u001b[39m\u001b[32m~/Desktop/Developer/using_pydantic_with_llms/.venv/lib/python3.13/site-packages/pydantic/_internal/_generate_schema.py:837\u001b[39m, in \u001b[36mGenerateSchema._model_schema\u001b[39m\u001b[34m(self, cls)\u001b[39m\n\u001b[32m    825\u001b[39m     model_schema = core_schema.model_schema(\n\u001b[32m    826\u001b[39m         \u001b[38;5;28mcls\u001b[39m,\n\u001b[32m    827\u001b[39m         inner_schema,\n\u001b[32m   (...)\u001b[39m\u001b[32m    833\u001b[39m         ref=model_ref,\n\u001b[32m    834\u001b[39m     )\n\u001b[32m    835\u001b[39m \u001b[38;5;28;01melse\u001b[39;00m:\n\u001b[32m    836\u001b[39m     fields_schema: core_schema.CoreSchema = core_schema.model_fields_schema(\n\u001b[32m--> \u001b[39m\u001b[32m837\u001b[39m         {k: \u001b[38;5;28;43mself\u001b[39;49m\u001b[43m.\u001b[49m\u001b[43m_generate_md_field_schema\u001b[49m\u001b[43m(\u001b[49m\u001b[43mk\u001b[49m\u001b[43m,\u001b[49m\u001b[43m \u001b[49m\u001b[43mv\u001b[49m\u001b[43m,\u001b[49m\u001b[43m \u001b[49m\u001b[43mdecorators\u001b[49m\u001b[43m)\u001b[49m \u001b[38;5;28;01mfor\u001b[39;00m k, v \u001b[38;5;129;01min\u001b[39;00m fields.items()},\n\u001b[32m    838\u001b[39m         computed_fields=[\n\u001b[32m    839\u001b[39m             \u001b[38;5;28mself\u001b[39m._computed_field_schema(d, decorators.field_serializers)\n\u001b[32m    840\u001b[39m             \u001b[38;5;28;01mfor\u001b[39;00m d \u001b[38;5;129;01min\u001b[39;00m computed_fields.values()\n\u001b[32m    841\u001b[39m         ],\n\u001b[32m    842\u001b[39m         extras_schema=extras_schema,\n\u001b[32m    843\u001b[39m         extras_keys_schema=extras_keys_schema,\n\u001b[32m    844\u001b[39m         model_name=\u001b[38;5;28mcls\u001b[39m.\u001b[34m__name__\u001b[39m,\n\u001b[32m    845\u001b[39m     )\n\u001b[32m    846\u001b[39m     inner_schema = apply_validators(fields_schema, decorators.root_validators.values(), \u001b[38;5;28;01mNone\u001b[39;00m)\n\u001b[32m    847\u001b[39m     inner_schema = apply_model_validators(inner_schema, model_validators, \u001b[33m'\u001b[39m\u001b[33minner\u001b[39m\u001b[33m'\u001b[39m)\n",
      "\u001b[36mFile \u001b[39m\u001b[32m~/Desktop/Developer/using_pydantic_with_llms/.venv/lib/python3.13/site-packages/pydantic/_internal/_generate_schema.py:1206\u001b[39m, in \u001b[36mGenerateSchema._generate_md_field_schema\u001b[39m\u001b[34m(self, name, field_info, decorators)\u001b[39m\n\u001b[32m   1199\u001b[39m \u001b[38;5;28;01mdef\u001b[39;00m\u001b[38;5;250m \u001b[39m\u001b[34m_generate_md_field_schema\u001b[39m(\n\u001b[32m   1200\u001b[39m     \u001b[38;5;28mself\u001b[39m,\n\u001b[32m   1201\u001b[39m     name: \u001b[38;5;28mstr\u001b[39m,\n\u001b[32m   1202\u001b[39m     field_info: FieldInfo,\n\u001b[32m   1203\u001b[39m     decorators: DecoratorInfos,\n\u001b[32m   1204\u001b[39m ) -> core_schema.ModelField:\n\u001b[32m   1205\u001b[39m \u001b[38;5;250m    \u001b[39m\u001b[33;03m\"\"\"Prepare a ModelField to represent a model field.\"\"\"\u001b[39;00m\n\u001b[32m-> \u001b[39m\u001b[32m1206\u001b[39m     common_field = \u001b[38;5;28;43mself\u001b[39;49m\u001b[43m.\u001b[49m\u001b[43m_common_field_schema\u001b[49m\u001b[43m(\u001b[49m\u001b[43mname\u001b[49m\u001b[43m,\u001b[49m\u001b[43m \u001b[49m\u001b[43mfield_info\u001b[49m\u001b[43m,\u001b[49m\u001b[43m \u001b[49m\u001b[43mdecorators\u001b[49m\u001b[43m)\u001b[49m\n\u001b[32m   1207\u001b[39m     \u001b[38;5;28;01mreturn\u001b[39;00m core_schema.model_field(\n\u001b[32m   1208\u001b[39m         common_field[\u001b[33m'\u001b[39m\u001b[33mschema\u001b[39m\u001b[33m'\u001b[39m],\n\u001b[32m   1209\u001b[39m         serialization_exclude=common_field[\u001b[33m'\u001b[39m\u001b[33mserialization_exclude\u001b[39m\u001b[33m'\u001b[39m],\n\u001b[32m   (...)\u001b[39m\u001b[32m   1213\u001b[39m         metadata=common_field[\u001b[33m'\u001b[39m\u001b[33mmetadata\u001b[39m\u001b[33m'\u001b[39m],\n\u001b[32m   1214\u001b[39m     )\n",
      "\u001b[36mFile \u001b[39m\u001b[32m~/Desktop/Developer/using_pydantic_with_llms/.venv/lib/python3.13/site-packages/pydantic/_internal/_generate_schema.py:1372\u001b[39m, in \u001b[36mGenerateSchema._common_field_schema\u001b[39m\u001b[34m(self, name, field_info, decorators)\u001b[39m\n\u001b[32m   1368\u001b[39m         schema = \u001b[38;5;28mself\u001b[39m._apply_annotations(\n\u001b[32m   1369\u001b[39m             source_type, annotations + validators_from_decorators, transform_inner_schema=set_discriminator\n\u001b[32m   1370\u001b[39m         )\n\u001b[32m   1371\u001b[39m     \u001b[38;5;28;01melse\u001b[39;00m:\n\u001b[32m-> \u001b[39m\u001b[32m1372\u001b[39m         schema = \u001b[38;5;28;43mself\u001b[39;49m\u001b[43m.\u001b[49m\u001b[43m_apply_annotations\u001b[49m\u001b[43m(\u001b[49m\n\u001b[32m   1373\u001b[39m \u001b[43m            \u001b[49m\u001b[43msource_type\u001b[49m\u001b[43m,\u001b[49m\n\u001b[32m   1374\u001b[39m \u001b[43m            \u001b[49m\u001b[43mannotations\u001b[49m\u001b[43m \u001b[49m\u001b[43m+\u001b[49m\u001b[43m \u001b[49m\u001b[43mvalidators_from_decorators\u001b[49m\u001b[43m,\u001b[49m\n\u001b[32m   1375\u001b[39m \u001b[43m        \u001b[49m\u001b[43m)\u001b[49m\n\u001b[32m   1377\u001b[39m \u001b[38;5;66;03m# This V1 compatibility shim should eventually be removed\u001b[39;00m\n\u001b[32m   1378\u001b[39m \u001b[38;5;66;03m# push down any `each_item=True` validators\u001b[39;00m\n\u001b[32m   1379\u001b[39m \u001b[38;5;66;03m# note that this won't work for any Annotated types that get wrapped by a function validator\u001b[39;00m\n\u001b[32m   1380\u001b[39m \u001b[38;5;66;03m# but that's okay because that didn't exist in V1\u001b[39;00m\n\u001b[32m   1381\u001b[39m this_field_validators = filter_field_decorator_info_by_field(decorators.validators.values(), name)\n",
      "\u001b[36mFile \u001b[39m\u001b[32m~/Desktop/Developer/using_pydantic_with_llms/.venv/lib/python3.13/site-packages/pydantic/_internal/_generate_schema.py:2297\u001b[39m, in \u001b[36mGenerateSchema._apply_annotations\u001b[39m\u001b[34m(self, source_type, annotations, transform_inner_schema)\u001b[39m\n\u001b[32m   2292\u001b[39m         \u001b[38;5;28;01mcontinue\u001b[39;00m\n\u001b[32m   2293\u001b[39m     get_inner_schema = \u001b[38;5;28mself\u001b[39m._get_wrapped_inner_schema(\n\u001b[32m   2294\u001b[39m         get_inner_schema, annotation, pydantic_js_annotation_functions\n\u001b[32m   2295\u001b[39m     )\n\u001b[32m-> \u001b[39m\u001b[32m2297\u001b[39m schema = \u001b[43mget_inner_schema\u001b[49m\u001b[43m(\u001b[49m\u001b[43msource_type\u001b[49m\u001b[43m)\u001b[49m\n\u001b[32m   2298\u001b[39m \u001b[38;5;28;01mif\u001b[39;00m pydantic_js_annotation_functions:\n\u001b[32m   2299\u001b[39m     core_metadata = schema.setdefault(\u001b[33m'\u001b[39m\u001b[33mmetadata\u001b[39m\u001b[33m'\u001b[39m, {})\n",
      "\u001b[36mFile \u001b[39m\u001b[32m~/Desktop/Developer/using_pydantic_with_llms/.venv/lib/python3.13/site-packages/pydantic/_internal/_schema_generation_shared.py:83\u001b[39m, in \u001b[36mCallbackGetCoreSchemaHandler.__call__\u001b[39m\u001b[34m(self, source_type)\u001b[39m\n\u001b[32m     82\u001b[39m \u001b[38;5;28;01mdef\u001b[39;00m\u001b[38;5;250m \u001b[39m\u001b[34m__call__\u001b[39m(\u001b[38;5;28mself\u001b[39m, source_type: Any, /) -> core_schema.CoreSchema:\n\u001b[32m---> \u001b[39m\u001b[32m83\u001b[39m     schema = \u001b[38;5;28;43mself\u001b[39;49m\u001b[43m.\u001b[49m\u001b[43m_handler\u001b[49m\u001b[43m(\u001b[49m\u001b[43msource_type\u001b[49m\u001b[43m)\u001b[49m\n\u001b[32m     84\u001b[39m     \u001b[38;5;28;01mif\u001b[39;00m \u001b[38;5;28mself\u001b[39m._ref_mode == \u001b[33m'\u001b[39m\u001b[33mto-def\u001b[39m\u001b[33m'\u001b[39m:\n\u001b[32m     85\u001b[39m         ref = schema.get(\u001b[33m'\u001b[39m\u001b[33mref\u001b[39m\u001b[33m'\u001b[39m)\n",
      "\u001b[36mFile \u001b[39m\u001b[32m~/Desktop/Developer/using_pydantic_with_llms/.venv/lib/python3.13/site-packages/pydantic/_internal/_generate_schema.py:2276\u001b[39m, in \u001b[36mGenerateSchema._apply_annotations.<locals>.inner_handler\u001b[39m\u001b[34m(obj)\u001b[39m\n\u001b[32m   2275\u001b[39m \u001b[38;5;28;01mdef\u001b[39;00m\u001b[38;5;250m \u001b[39m\u001b[34minner_handler\u001b[39m(obj: Any) -> CoreSchema:\n\u001b[32m-> \u001b[39m\u001b[32m2276\u001b[39m     schema = \u001b[38;5;28;43mself\u001b[39;49m\u001b[43m.\u001b[49m\u001b[43m_generate_schema_from_get_schema_method\u001b[49m\u001b[43m(\u001b[49m\u001b[43mobj\u001b[49m\u001b[43m,\u001b[49m\u001b[43m \u001b[49m\u001b[43msource_type\u001b[49m\u001b[43m)\u001b[49m\n\u001b[32m   2278\u001b[39m     \u001b[38;5;28;01mif\u001b[39;00m schema \u001b[38;5;129;01mis\u001b[39;00m \u001b[38;5;28;01mNone\u001b[39;00m:\n\u001b[32m   2279\u001b[39m         schema = \u001b[38;5;28mself\u001b[39m._generate_schema_inner(obj)\n",
      "\u001b[36mFile \u001b[39m\u001b[32m~/Desktop/Developer/using_pydantic_with_llms/.venv/lib/python3.13/site-packages/pydantic/_internal/_generate_schema.py:900\u001b[39m, in \u001b[36mGenerateSchema._generate_schema_from_get_schema_method\u001b[39m\u001b[34m(self, obj, source)\u001b[39m\n\u001b[32m    898\u001b[39m \u001b[38;5;28;01melse\u001b[39;00m:\n\u001b[32m    899\u001b[39m     ref_mode = \u001b[33m'\u001b[39m\u001b[33mto-def\u001b[39m\u001b[33m'\u001b[39m\n\u001b[32m--> \u001b[39m\u001b[32m900\u001b[39m schema = \u001b[43mget_schema\u001b[49m\u001b[43m(\u001b[49m\n\u001b[32m    901\u001b[39m \u001b[43m    \u001b[49m\u001b[43msource\u001b[49m\u001b[43m,\u001b[49m\u001b[43m \u001b[49m\u001b[43mCallbackGetCoreSchemaHandler\u001b[49m\u001b[43m(\u001b[49m\u001b[38;5;28;43mself\u001b[39;49m\u001b[43m.\u001b[49m\u001b[43m_generate_schema_inner\u001b[49m\u001b[43m,\u001b[49m\u001b[43m \u001b[49m\u001b[38;5;28;43mself\u001b[39;49m\u001b[43m,\u001b[49m\u001b[43m \u001b[49m\u001b[43mref_mode\u001b[49m\u001b[43m=\u001b[49m\u001b[43mref_mode\u001b[49m\u001b[43m)\u001b[49m\n\u001b[32m    902\u001b[39m \u001b[43m\u001b[49m\u001b[43m)\u001b[49m\n\u001b[32m    903\u001b[39m \u001b[38;5;28;01mif\u001b[39;00m schema[\u001b[33m'\u001b[39m\u001b[33mtype\u001b[39m\u001b[33m'\u001b[39m] == \u001b[33m'\u001b[39m\u001b[33mdefinitions\u001b[39m\u001b[33m'\u001b[39m:\n\u001b[32m    904\u001b[39m     schema = \u001b[38;5;28mself\u001b[39m.defs.unpack_definitions(schema)\n",
      "\u001b[36mFile \u001b[39m\u001b[32m~/Desktop/Developer/using_pydantic_with_llms/.venv/lib/python3.13/site-packages/pydantic/networks.py:986\u001b[39m, in \u001b[36mEmailStr.__get_pydantic_core_schema__\u001b[39m\u001b[34m(cls, _source, _handler)\u001b[39m\n\u001b[32m    980\u001b[39m \u001b[38;5;129m@classmethod\u001b[39m\n\u001b[32m    981\u001b[39m \u001b[38;5;28;01mdef\u001b[39;00m\u001b[38;5;250m \u001b[39m\u001b[34m__get_pydantic_core_schema__\u001b[39m(\n\u001b[32m    982\u001b[39m     \u001b[38;5;28mcls\u001b[39m,\n\u001b[32m    983\u001b[39m     _source: \u001b[38;5;28mtype\u001b[39m[Any],\n\u001b[32m    984\u001b[39m     _handler: GetCoreSchemaHandler,\n\u001b[32m    985\u001b[39m ) -> core_schema.CoreSchema:\n\u001b[32m--> \u001b[39m\u001b[32m986\u001b[39m     \u001b[43mimport_email_validator\u001b[49m\u001b[43m(\u001b[49m\u001b[43m)\u001b[49m\n\u001b[32m    987\u001b[39m     \u001b[38;5;28;01mreturn\u001b[39;00m core_schema.no_info_after_validator_function(\u001b[38;5;28mcls\u001b[39m._validate, core_schema.str_schema())\n",
      "\u001b[36mFile \u001b[39m\u001b[32m~/Desktop/Developer/using_pydantic_with_llms/.venv/lib/python3.13/site-packages/pydantic/networks.py:948\u001b[39m, in \u001b[36mimport_email_validator\u001b[39m\u001b[34m()\u001b[39m\n\u001b[32m    946\u001b[39m     \u001b[38;5;28;01mimport\u001b[39;00m\u001b[38;5;250m \u001b[39m\u001b[34;01memail_validator\u001b[39;00m\n\u001b[32m    947\u001b[39m \u001b[38;5;28;01mexcept\u001b[39;00m \u001b[38;5;167;01mImportError\u001b[39;00m \u001b[38;5;28;01mas\u001b[39;00m e:\n\u001b[32m--> \u001b[39m\u001b[32m948\u001b[39m     \u001b[38;5;28;01mraise\u001b[39;00m \u001b[38;5;167;01mImportError\u001b[39;00m(\u001b[33m'\u001b[39m\u001b[33memail-validator is not installed, run `pip install pydantic[email]`\u001b[39m\u001b[33m'\u001b[39m) \u001b[38;5;28;01mfrom\u001b[39;00m\u001b[38;5;250m \u001b[39m\u001b[34;01me\u001b[39;00m\n\u001b[32m    949\u001b[39m \u001b[38;5;28;01mif\u001b[39;00m \u001b[38;5;129;01mnot\u001b[39;00m version(\u001b[33m'\u001b[39m\u001b[33memail-validator\u001b[39m\u001b[33m'\u001b[39m).partition(\u001b[33m'\u001b[39m\u001b[33m.\u001b[39m\u001b[33m'\u001b[39m)[\u001b[32m0\u001b[39m] == \u001b[33m'\u001b[39m\u001b[33m2\u001b[39m\u001b[33m'\u001b[39m:\n\u001b[32m    950\u001b[39m     \u001b[38;5;28;01mraise\u001b[39;00m \u001b[38;5;167;01mImportError\u001b[39;00m(\u001b[33m'\u001b[39m\u001b[33memail-validator version >= 2.0 required, run pip install -U email-validator\u001b[39m\u001b[33m'\u001b[39m)\n",
      "\u001b[31mImportError\u001b[39m: email-validator is not installed, run `pip install pydantic[email]`"
     ]
    }
   ],
   "source": [
    "# Create a Pydantic model to validate user input data consisting of a customer_number (int), email (str), and issue_description (str).\n",
    "class UserInput(BaseModel):\n",
    "    customer_number: int\n",
    "    email: EmailStr\n",
    "    issue_description: str\n",
    "    \n",
    "# Sample data to populate the model\n",
    "sample_data = {\n",
    "    \"customer_number\": 12345,\n",
    "    \"email\": \"  user@example.com  \",\n",
    "    \"issue_description\": \"I am unable to access my account.\"\n",
    "}"
   ]
  },
  {
   "cell_type": "markdown",
   "id": "b0c1f063",
   "metadata": {},
   "source": [
    "Validate the sample data"
   ]
  },
  {
   "cell_type": "code",
   "execution_count": null,
   "id": "24ae61da",
   "metadata": {},
   "outputs": [],
   "source": [
    "# Validate sample_data\n",
    "\n",
    "user_input = UserInput(**sample_data)\n",
    "\n",
    "print(user_input)"
   ]
  }
 ],
 "metadata": {
  "kernelspec": {
   "display_name": ".venv (3.13.2)",
   "language": "python",
   "name": "python3"
  },
  "language_info": {
   "codemirror_mode": {
    "name": "ipython",
    "version": 3
   },
   "file_extension": ".py",
   "mimetype": "text/x-python",
   "name": "python",
   "nbconvert_exporter": "python",
   "pygments_lexer": "ipython3",
   "version": "3.13.2"
  }
 },
 "nbformat": 4,
 "nbformat_minor": 5
}
