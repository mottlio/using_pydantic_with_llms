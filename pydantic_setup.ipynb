{
 "cells": [
  {
   "cell_type": "markdown",
   "id": "5df994df",
   "metadata": {},
   "source": [
    "My first objective is to create a Pydantic model to validate user input data in a fictional customer support system.\n",
    "I'll use venv to create a virtual environment .venv into which I'll install the IPkernel and Pydantic packages (it's a best practice and will prevent any conflicts with packages installed in the global environment). You'll also need to `pip install pydantic[email]` - the email validator."
   ]
  },
  {
   "cell_type": "code",
   "execution_count": 2,
   "id": "0025b767",
   "metadata": {},
   "outputs": [],
   "source": [
    "# Import the pydantic and json libraries\n",
    "from pydantic import BaseModel, ValidationError, EmailStr\n",
    "import json"
   ]
  },
  {
   "cell_type": "markdown",
   "id": "d41dd155",
   "metadata": {},
   "source": [
    "## Define a Pydantic model for user input and populate it with some sample data"
   ]
  },
  {
   "cell_type": "code",
   "execution_count": 4,
   "id": "9e7cd308",
   "metadata": {},
   "outputs": [],
   "source": [
    "# Create a Pydantic model to validate user input data consisting of a customer_number (int), email (str), and issue_description (str).\n",
    "class UserInput(BaseModel):\n",
    "    customer_number: int\n",
    "    email: EmailStr\n",
    "    issue_description: str\n",
    "    \n",
    "# Sample data to populate the model\n",
    "sample_data = {\n",
    "    \"customer_number\": 12345,\n",
    "    \"email\": \"  user@example.com  \",\n",
    "    \"issue_description\": \"I am unable to access my account.\"\n",
    "}"
   ]
  },
  {
   "cell_type": "markdown",
   "id": "b0c1f063",
   "metadata": {},
   "source": [
    "Validate the sample data"
   ]
  },
  {
   "cell_type": "code",
   "execution_count": 5,
   "id": "24ae61da",
   "metadata": {},
   "outputs": [
    {
     "name": "stdout",
     "output_type": "stream",
     "text": [
      "customer_number=12345 email='user@example.com' issue_description='I am unable to access my account.'\n"
     ]
    }
   ],
   "source": [
    "# Validate sample_data\n",
    "\n",
    "user_input = UserInput(**sample_data)\n",
    "\n",
    "print(user_input)"
   ]
  },
  {
   "cell_type": "markdown",
   "id": "c696b1c9",
   "metadata": {},
   "source": [
    "Create an error on purpose - string instead of number and no email"
   ]
  },
  {
   "cell_type": "code",
   "execution_count": null,
   "id": "47067a40",
   "metadata": {},
   "outputs": [
    {
     "name": "stdout",
     "output_type": "stream",
     "text": [
      "[{\"type\":\"int_parsing\",\"loc\":[\"customer_number\"],\"msg\":\"Input should be a valid integer, unable to parse string as an integer\",\"input\":\"not_a_number\",\"url\":\"https://errors.pydantic.dev/2.11/v/int_parsing\"},{\"type\":\"value_error\",\"loc\":[\"email\"],\"msg\":\"value is not a valid email address: An email address must have an @-sign.\",\"input\":\"invalid_email\",\"ctx\":{\"reason\":\"An email address must have an @-sign.\"},\"url\":\"https://errors.pydantic.dev/2.11/v/value_error\"},{\"type\":\"string_type\",\"loc\":[\"issue_description\"],\"msg\":\"Input should be a valid string\",\"input\":6,\"url\":\"https://errors.pydantic.dev/2.11/v/string_type\"}]\n"
     ]
    }
   ],
   "source": [
    "# Populate model with invalid data to see validation errors\n",
    "invalid_data = {\n",
    "    \"customer_number\": \"not_a_number\",\n",
    "    \"email\": \"invalid_email\",\n",
    "    \"issue_description\": 6\n",
    "}\n",
    "\n",
    "#Run this cell below to see validation errors returned as JSON\n",
    "try:\n",
    "    user_input = UserInput(**invalid_data)\n",
    "except ValidationError as e:\n",
    "    print(e.json()) "
   ]
  },
  {
   "cell_type": "code",
   "execution_count": 7,
   "id": "12bc5bd8",
   "metadata": {},
   "outputs": [],
   "source": [
    "# Create a function that takes a dictionary as input, validates it against the UserInput model, and returns either the validated data or the validation errors.\n",
    "def validate_user_input(data: dict):\n",
    "    try:\n",
    "        user_input = UserInput(**data)\n",
    "        print(f\"✅ Valid user input created:\")\n",
    "        print(f\"{user_input.model_dump_json(indent=2)}\")\n",
    "        return user_input\n",
    "    except ValidationError as e:\n",
    "        print(f\"❌ Validation errors found:\")\n",
    "        print(f\"{e.json(indent=2)}\")\n",
    "        return e.json()"
   ]
  },
  {
   "cell_type": "code",
   "execution_count": 8,
   "id": "878c5890",
   "metadata": {},
   "outputs": [
    {
     "name": "stdout",
     "output_type": "stream",
     "text": [
      "❌ Validation errors found:\n",
      "[\n",
      "  {\n",
      "    \"type\": \"int_parsing\",\n",
      "    \"loc\": [\n",
      "      \"customer_number\"\n",
      "    ],\n",
      "    \"msg\": \"Input should be a valid integer, unable to parse string as an integer\",\n",
      "    \"input\": \"not_a_number\",\n",
      "    \"url\": \"https://errors.pydantic.dev/2.11/v/int_parsing\"\n",
      "  },\n",
      "  {\n",
      "    \"type\": \"value_error\",\n",
      "    \"loc\": [\n",
      "      \"email\"\n",
      "    ],\n",
      "    \"msg\": \"value is not a valid email address: An email address must have an @-sign.\",\n",
      "    \"input\": \"invalid_email\",\n",
      "    \"ctx\": {\n",
      "      \"reason\": \"An email address must have an @-sign.\"\n",
      "    },\n",
      "    \"url\": \"https://errors.pydantic.dev/2.11/v/value_error\"\n",
      "  },\n",
      "  {\n",
      "    \"type\": \"string_type\",\n",
      "    \"loc\": [\n",
      "      \"issue_description\"\n",
      "    ],\n",
      "    \"msg\": \"Input should be a valid string\",\n",
      "    \"input\": 6,\n",
      "    \"url\": \"https://errors.pydantic.dev/2.11/v/string_type\"\n",
      "  }\n",
      "]\n"
     ]
    },
    {
     "data": {
      "text/plain": [
       "'[{\"type\":\"int_parsing\",\"loc\":[\"customer_number\"],\"msg\":\"Input should be a valid integer, unable to parse string as an integer\",\"input\":\"not_a_number\",\"url\":\"https://errors.pydantic.dev/2.11/v/int_parsing\"},{\"type\":\"value_error\",\"loc\":[\"email\"],\"msg\":\"value is not a valid email address: An email address must have an @-sign.\",\"input\":\"invalid_email\",\"ctx\":{\"reason\":\"An email address must have an @-sign.\"},\"url\":\"https://errors.pydantic.dev/2.11/v/value_error\"},{\"type\":\"string_type\",\"loc\":[\"issue_description\"],\"msg\":\"Input should be a valid string\",\"input\":6,\"url\":\"https://errors.pydantic.dev/2.11/v/string_type\"}]'"
      ]
     },
     "execution_count": 8,
     "metadata": {},
     "output_type": "execute_result"
    }
   ],
   "source": [
    "#Try to validate invalid data\n",
    "validate_user_input(invalid_data)"
   ]
  },
  {
   "cell_type": "code",
   "execution_count": 9,
   "id": "e6e237ec",
   "metadata": {},
   "outputs": [],
   "source": [
    "#Create invalid data with a missing field\n",
    "incomplete_data = {\n",
    "    \"customer_number\": 67890,\n",
    "    \"issue_description\": \"My order hasn't arrived yet.\"\n",
    "}"
   ]
  },
  {
   "cell_type": "code",
   "execution_count": 10,
   "id": "039b74a6",
   "metadata": {},
   "outputs": [
    {
     "name": "stdout",
     "output_type": "stream",
     "text": [
      "❌ Validation errors found:\n",
      "[\n",
      "  {\n",
      "    \"type\": \"missing\",\n",
      "    \"loc\": [\n",
      "      \"email\"\n",
      "    ],\n",
      "    \"msg\": \"Field required\",\n",
      "    \"input\": {\n",
      "      \"customer_number\": 67890,\n",
      "      \"issue_description\": \"My order hasn't arrived yet.\"\n",
      "    },\n",
      "    \"url\": \"https://errors.pydantic.dev/2.11/v/missing\"\n",
      "  }\n",
      "]\n"
     ]
    },
    {
     "data": {
      "text/plain": [
       "'[{\"type\":\"missing\",\"loc\":[\"email\"],\"msg\":\"Field required\",\"input\":{\"customer_number\":67890,\"issue_description\":\"My order hasn\\'t arrived yet.\"},\"url\":\"https://errors.pydantic.dev/2.11/v/missing\"}]'"
      ]
     },
     "execution_count": 10,
     "metadata": {},
     "output_type": "execute_result"
    }
   ],
   "source": [
    "# Try validating the incomplete data\n",
    "validate_user_input(incomplete_data)"
   ]
  },
  {
   "cell_type": "markdown",
   "id": "f588aebb",
   "metadata": {},
   "source": [
    "\n"
   ]
  }
 ],
 "metadata": {
  "kernelspec": {
   "display_name": ".venv (3.13.2)",
   "language": "python",
   "name": "python3"
  },
  "language_info": {
   "codemirror_mode": {
    "name": "ipython",
    "version": 3
   },
   "file_extension": ".py",
   "mimetype": "text/x-python",
   "name": "python",
   "nbconvert_exporter": "python",
   "pygments_lexer": "ipython3",
   "version": "3.13.2"
  }
 },
 "nbformat": 4,
 "nbformat_minor": 5
}
