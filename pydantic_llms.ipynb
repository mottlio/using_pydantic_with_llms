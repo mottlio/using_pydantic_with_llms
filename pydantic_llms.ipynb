{
 "cells": [
  {
   "cell_type": "markdown",
   "id": "3d4ac9e0",
   "metadata": {},
   "source": [
    "Here I'm using Pydantic to test the response from an LLM model. If errors are encountered, a new request to the LLM API will be sent containing error details in the prompt. "
   ]
  },
  {
   "cell_type": "code",
   "execution_count": null,
   "id": "25f7c85e",
   "metadata": {},
   "outputs": [],
   "source": [
    "# Import necessary packages\n",
    "from pydantic import BaseModel, ValidationError, Field, EmailStr\n",
    "from typing import List, Literal, Optional\n",
    "import json\n",
    "from datetime import date\n",
    "# Load environment variables from a .env file - using the dotenv library - that is where the OpenAI API key is stored\n",
    "from dotenv import load_dotenv\n",
    "import openai"
   ]
  },
  {
   "cell_type": "code",
   "execution_count": 8,
   "id": "60735f27",
   "metadata": {},
   "outputs": [],
   "source": [
    "# Load environment variables from a .env file\n",
    "load_dotenv()\n",
    "#Initlalize OpenAI API key\n",
    "#openai.api_key = os.getenv(\"OPENAI_API_KEY\")\n",
    "client = openai.OpenAI()"
   ]
  },
  {
   "cell_type": "code",
   "execution_count": 15,
   "id": "2f7fc407",
   "metadata": {},
   "outputs": [],
   "source": [
    "#Create a sample user input\n",
    "user_input_json = '''\n",
    "{\n",
    "    \"name\": \"Jan Uzytkownik\",\n",
    "    \"email\": \"jan.uzytkownik@example.com\",\n",
    "    \"query\": \"I forgot my password. Treat this very urgently please.\",\n",
    "    \"order_number\": null,\n",
    "    \"purchase_date\": null\n",
    "}\n",
    "'''"
   ]
  },
  {
   "cell_type": "code",
   "execution_count": 16,
   "id": "cfd2b5ef",
   "metadata": {},
   "outputs": [],
   "source": [
    "# Defne the Pydantic model for validation\n",
    "class UserInput(BaseModel):\n",
    "    name: str\n",
    "    email: EmailStr\n",
    "    query: str\n",
    "    order_id: Optional[int] = Field(\n",
    "        None,\n",
    "        description=\"5-digit order number (cannot start with 0)\",\n",
    "        ge=10000,\n",
    "        le=99999\n",
    "    )\n",
    "    transaction_date: Optional[date] = None"
   ]
  },
  {
   "cell_type": "code",
   "execution_count": 17,
   "id": "d236f9c4",
   "metadata": {},
   "outputs": [
    {
     "name": "stdout",
     "output_type": "stream",
     "text": [
      "User input is valid: name='Jan Uzytkownik' email='jan.uzytkownik@example.com' query='I forgot my password. Treat this very urgently please.' order_id=None transaction_date=None\n"
     ]
    },
    {
     "name": "stderr",
     "output_type": "stream",
     "text": [
      "/var/folders/g9/l7t9y9813fjggxq0lycxgg4c0000gp/T/ipykernel_50383/1808375781.py:3: PydanticDeprecatedSince20: The `parse_raw` method is deprecated; if your data is JSON use `model_validate_json`, otherwise load the data then use `model_validate` instead. Deprecated in Pydantic V2.0 to be removed in V3.0. See Pydantic V2 Migration Guide at https://errors.pydantic.dev/2.11/migration/\n",
      "  user_input = UserInput.parse_raw(user_input_json)\n"
     ]
    }
   ],
   "source": [
    "#Create an instance of the model using the sample user input\n",
    "try:\n",
    "    user_input = UserInput.parse_raw(user_input_json)\n",
    "    print(\"User input is valid:\", user_input)\n",
    "except ValidationError as e:\n",
    "    print(\"Validation error:\", e.json())"
   ]
  },
  {
   "cell_type": "code",
   "execution_count": 18,
   "id": "74ab5ebf",
   "metadata": {},
   "outputs": [],
   "source": [
    "#Define a new CustomerQuery model that inherits from UserInput\n",
    "class CustomerQuery(UserInput):\n",
    "    department: str = Field(..., description=\"Department to route the query to\")\n",
    "    category: Literal['billing', 'technical', 'general'] = Field(..., description=\"Category of the query - billing, technical, or general\")\n",
    "    priority: Literal['low', 'medium', 'high'] = Field(..., description=\"Priority level of the query\")\n",
    "    tags: Optional[List[str]] = Field(..., max_items=5, description=\"Up to 5 keyword tags\")"
   ]
  },
  {
   "cell_type": "code",
   "execution_count": null,
   "id": "4cdac922",
   "metadata": {},
   "outputs": [],
   "source": [
    "#Create valid sample customer query data in JSON format to guide the LLM\n",
    "\n",
    "valid_customer_query_json = '''\n",
    "{\n",
    "    \"name\": \"Jan Uzytkownik\",\n",
    "    \"email\": \"jan.uzytkownik@example.com\",\n",
    "    \"query\": \"I forgot my password. Treat this very urgently please.\",\n",
    "    \"order_number\": 12345,\n",
    "    \"purchase_date\": \"2023-01-01\",\n",
    "    department: \"Support\",\n",
    "    category: \"technical\",\n",
    "    priority: \"high\",\n",
    "    tags: [\"password\", \"login\", \"account\"]\n",
    "}\n",
    "'''\n"
   ]
  },
  {
   "cell_type": "code",
   "execution_count": 20,
   "id": "feeecce2",
   "metadata": {},
   "outputs": [
    {
     "name": "stdout",
     "output_type": "stream",
     "text": [
      "\n",
      "Please analyze this user query\n",
      " {\n",
      "  \"name\": \"Jan Uzytkownik\",\n",
      "  \"email\": \"jan.uzytkownik@example.com\",\n",
      "  \"query\": \"I forgot my password. Treat this very urgently please.\",\n",
      "  \"order_id\": null,\n",
      "  \"transaction_date\": null\n",
      "}:\n",
      "\n",
      "Return your analysis as a JSON object matching this exact structure \n",
      "and data types:\n",
      "\n",
      "{\n",
      "    \"name\": \"Jan Uzytkownik\",\n",
      "    \"email\": \"jan.uzytkownik@example.com\",\n",
      "    \"query\": \"I forgot my password.\",\n",
      "    \"order_number\": 12345,\n",
      "    \"purchase_date\": \"2023-01-01\",\n",
      "    department: \"Support\",\n",
      "    category: \"technical\",\n",
      "    priority: \"high\",\n",
      "    tags: [\"password\", \"login\", \"account\"]\n",
      "}\n",
      "\n",
      "\n",
      "Respond ONLY with valid JSON. Do not include any explanations or \n",
      "other text or formatting before or after the JSON object.\n",
      "\n"
     ]
    }
   ],
   "source": [
    "# Create prompt with user data and expected JSON structure\n",
    "prompt = f\"\"\"\n",
    "Please analyze this user query\\n {user_input.model_dump_json(indent=2)}:\n",
    "\n",
    "Return your analysis as a JSON object matching this exact structure \n",
    "and data types:\n",
    "{valid_customer_query_json}\n",
    "\n",
    "Respond ONLY with valid JSON. Do not include any explanations or \n",
    "other text or formatting before or after the JSON object.\n",
    "\"\"\"\n",
    "\n",
    "print(prompt)"
   ]
  },
  {
   "cell_type": "code",
   "execution_count": 21,
   "id": "fee70718",
   "metadata": {},
   "outputs": [],
   "source": [
    "# Define a function to call the LLM\n",
    "def call_llm(prompt, model=\"gpt-4o\"):\n",
    "    response = client.chat.completions.create(\n",
    "        model=model,\n",
    "        messages=[{\"role\": \"user\", \"content\": prompt}]\n",
    "    )\n",
    "    return response.choices[0].message.content"
   ]
  },
  {
   "cell_type": "code",
   "execution_count": 23,
   "id": "45be1fb2",
   "metadata": {},
   "outputs": [
    {
     "name": "stdout",
     "output_type": "stream",
     "text": [
      "```json\n",
      "{\n",
      "    \"name\": \"Jan Uzytkownik\",\n",
      "    \"email\": \"jan.uzytkownik@example.com\",\n",
      "    \"query\": \"I forgot my password.\",\n",
      "    \"order_number\": null,\n",
      "    \"purchase_date\": null,\n",
      "    \"department\": \"Support\",\n",
      "    \"category\": \"technical\",\n",
      "    \"priority\": \"high\",\n",
      "    \"tags\": [\"password\", \"login\", \"account\"]\n",
      "}\n",
      "```\n"
     ]
    }
   ],
   "source": [
    "# Get response from LLM\n",
    "response_content = call_llm(prompt)\n",
    "print(response_content)"
   ]
  },
  {
   "cell_type": "markdown",
   "id": "eaa9ae06",
   "metadata": {},
   "source": [
    "### Validate LLM output using CustomerQuery model\n",
    "\n",
    "This validation will fail - because the response we get has some additional \"fluff\" and is not in proper JSON format. Formatting (json ``` ...) is part of the response."
   ]
  },
  {
   "cell_type": "code",
   "execution_count": null,
   "id": "458e0c9b",
   "metadata": {},
   "outputs": [
    {
     "ename": "ValidationError",
     "evalue": "1 validation error for CustomerQuery\n  Invalid JSON: expected value at line 1 column 1 [type=json_invalid, input_value='```json\\n{\\n    \"name\": ...in\", \"account\"]\\n}\\n```', input_type=str]\n    For further information visit https://errors.pydantic.dev/2.11/v/json_invalid",
     "output_type": "error",
     "traceback": [
      "\u001b[31m---------------------------------------------------------------------------\u001b[39m",
      "\u001b[31mValidationError\u001b[39m                           Traceback (most recent call last)",
      "\u001b[36mCell\u001b[39m\u001b[36m \u001b[39m\u001b[32mIn[24]\u001b[39m\u001b[32m, line 2\u001b[39m\n\u001b[32m      1\u001b[39m \u001b[38;5;66;03m# Attempt to parse the response into CustomerQuery model\u001b[39;00m\n\u001b[32m----> \u001b[39m\u001b[32m2\u001b[39m valid_data = \u001b[43mCustomerQuery\u001b[49m\u001b[43m.\u001b[49m\u001b[43mmodel_validate_json\u001b[49m\u001b[43m(\u001b[49m\u001b[43mresponse_content\u001b[49m\u001b[43m)\u001b[49m\n",
      "\u001b[36mFile \u001b[39m\u001b[32m~/Desktop/Developer/using_pydantic_with_llms/.venv/lib/python3.13/site-packages/pydantic/main.py:746\u001b[39m, in \u001b[36mBaseModel.model_validate_json\u001b[39m\u001b[34m(cls, json_data, strict, context, by_alias, by_name)\u001b[39m\n\u001b[32m    740\u001b[39m \u001b[38;5;28;01mif\u001b[39;00m by_alias \u001b[38;5;129;01mis\u001b[39;00m \u001b[38;5;28;01mFalse\u001b[39;00m \u001b[38;5;129;01mand\u001b[39;00m by_name \u001b[38;5;129;01mis\u001b[39;00m \u001b[38;5;129;01mnot\u001b[39;00m \u001b[38;5;28;01mTrue\u001b[39;00m:\n\u001b[32m    741\u001b[39m     \u001b[38;5;28;01mraise\u001b[39;00m PydanticUserError(\n\u001b[32m    742\u001b[39m         \u001b[33m'\u001b[39m\u001b[33mAt least one of `by_alias` or `by_name` must be set to True.\u001b[39m\u001b[33m'\u001b[39m,\n\u001b[32m    743\u001b[39m         code=\u001b[33m'\u001b[39m\u001b[33mvalidate-by-alias-and-name-false\u001b[39m\u001b[33m'\u001b[39m,\n\u001b[32m    744\u001b[39m     )\n\u001b[32m--> \u001b[39m\u001b[32m746\u001b[39m \u001b[38;5;28;01mreturn\u001b[39;00m \u001b[38;5;28;43mcls\u001b[39;49m\u001b[43m.\u001b[49m\u001b[43m__pydantic_validator__\u001b[49m\u001b[43m.\u001b[49m\u001b[43mvalidate_json\u001b[49m\u001b[43m(\u001b[49m\n\u001b[32m    747\u001b[39m \u001b[43m    \u001b[49m\u001b[43mjson_data\u001b[49m\u001b[43m,\u001b[49m\u001b[43m \u001b[49m\u001b[43mstrict\u001b[49m\u001b[43m=\u001b[49m\u001b[43mstrict\u001b[49m\u001b[43m,\u001b[49m\u001b[43m \u001b[49m\u001b[43mcontext\u001b[49m\u001b[43m=\u001b[49m\u001b[43mcontext\u001b[49m\u001b[43m,\u001b[49m\u001b[43m \u001b[49m\u001b[43mby_alias\u001b[49m\u001b[43m=\u001b[49m\u001b[43mby_alias\u001b[49m\u001b[43m,\u001b[49m\u001b[43m \u001b[49m\u001b[43mby_name\u001b[49m\u001b[43m=\u001b[49m\u001b[43mby_name\u001b[49m\n\u001b[32m    748\u001b[39m \u001b[43m\u001b[49m\u001b[43m)\u001b[49m\n",
      "\u001b[31mValidationError\u001b[39m: 1 validation error for CustomerQuery\n  Invalid JSON: expected value at line 1 column 1 [type=json_invalid, input_value='```json\\n{\\n    \"name\": ...in\", \"account\"]\\n}\\n```', input_type=str]\n    For further information visit https://errors.pydantic.dev/2.11/v/json_invalid"
     ]
    }
   ],
   "source": [
    "# Attempt to parse the response into CustomerQuery model\n",
    "valid_data = CustomerQuery.model_validate_json(response_content)"
   ]
  },
  {
   "cell_type": "markdown",
   "id": "72013370",
   "metadata": {},
   "source": [
    "## Define a function to validate responses with Pydantic models\n",
    "\n"
   ]
  },
  {
   "cell_type": "code",
   "execution_count": 38,
   "id": "6df8c8ed",
   "metadata": {},
   "outputs": [],
   "source": [
    "# Define a function to validate an LLM response\n",
    "def validate_with_model(data_model, llm_response):\n",
    "    try:\n",
    "        validated_data = data_model.model_validate_json(llm_response)\n",
    "        print(\"data validation successful!\")\n",
    "        print(validated_data.model_dump_json(indent=2))\n",
    "        return validated_data, None\n",
    "    except ValidationError as e:\n",
    "        print(f\"❌ Validation errors found:\")\n",
    "        print(e.json(indent=2))\n",
    "        error_message = f\"{e.json(indent=2)}\"\n",
    "        return None, error_message"
   ]
  },
  {
   "cell_type": "code",
   "execution_count": 42,
   "id": "93ec001f",
   "metadata": {},
   "outputs": [
    {
     "name": "stdout",
     "output_type": "stream",
     "text": [
      "❌ Validation errors found:\n",
      "[\n",
      "  {\n",
      "    \"type\": \"json_invalid\",\n",
      "    \"loc\": [],\n",
      "    \"msg\": \"Invalid JSON: expected value at line 1 column 1\",\n",
      "    \"input\": \"```json\\n{\\n    \\\"name\\\": \\\"Jan Uzytkownik\\\",\\n    \\\"email\\\": \\\"jan.uzytkownik@example.com\\\",\\n    \\\"query\\\": \\\"I forgot my password.\\\",\\n    \\\"order_number\\\": null,\\n    \\\"purchase_date\\\": null,\\n    \\\"department\\\": \\\"Support\\\",\\n    \\\"category\\\": \\\"technical\\\",\\n    \\\"priority\\\": \\\"high\\\",\\n    \\\"tags\\\": [\\\"password\\\", \\\"login\\\", \\\"account\\\"]\\n}\\n```\",\n",
      "    \"ctx\": {\n",
      "      \"error\": \"expected value at line 1 column 1\"\n",
      "    },\n",
      "    \"url\": \"https://errors.pydantic.dev/2.11/v/json_invalid\"\n",
      "  }\n",
      "]\n"
     ]
    }
   ],
   "source": [
    "# Test your validation function with the LLM response\n",
    "validated_data, validation_error = validate_with_model(\n",
    "    CustomerQuery, response_content\n",
    ")"
   ]
  },
  {
   "cell_type": "code",
   "execution_count": 43,
   "id": "160ee92d",
   "metadata": {},
   "outputs": [
    {
     "data": {
      "text/plain": [
       "'[\\n  {\\n    \"type\": \"json_invalid\",\\n    \"loc\": [],\\n    \"msg\": \"Invalid JSON: expected value at line 1 column 1\",\\n    \"input\": \"```json\\\\n{\\\\n    \\\\\"name\\\\\": \\\\\"Jan Uzytkownik\\\\\",\\\\n    \\\\\"email\\\\\": \\\\\"jan.uzytkownik@example.com\\\\\",\\\\n    \\\\\"query\\\\\": \\\\\"I forgot my password.\\\\\",\\\\n    \\\\\"order_number\\\\\": null,\\\\n    \\\\\"purchase_date\\\\\": null,\\\\n    \\\\\"department\\\\\": \\\\\"Support\\\\\",\\\\n    \\\\\"category\\\\\": \\\\\"technical\\\\\",\\\\n    \\\\\"priority\\\\\": \\\\\"high\\\\\",\\\\n    \\\\\"tags\\\\\": [\\\\\"password\\\\\", \\\\\"login\\\\\", \\\\\"account\\\\\"]\\\\n}\\\\n```\",\\n    \"ctx\": {\\n      \"error\": \"expected value at line 1 column 1\"\\n    },\\n    \"url\": \"https://errors.pydantic.dev/2.11/v/json_invalid\"\\n  }\\n]'"
      ]
     },
     "execution_count": 43,
     "metadata": {},
     "output_type": "execute_result"
    }
   ],
   "source": [
    "validation_error"
   ]
  },
  {
   "cell_type": "markdown",
   "id": "bcf913a9",
   "metadata": {},
   "source": [
    "Great! As expected we get an explanation for why response data is not valid. This function also returns the error_message that can be passed into a new prompt.\n",
    "\n",
    "Now, I'll create a function to try to get the proper answer:"
   ]
  },
  {
   "cell_type": "code",
   "execution_count": 45,
   "id": "121292b1",
   "metadata": {},
   "outputs": [],
   "source": [
    "# Define a function to create a retry prompt with error feedback\n",
    "def create_retry_prompt(\n",
    "    original_prompt, original_response, error_message\n",
    "):\n",
    "    retry_prompt = f\"\"\"\n",
    "This is a request to fix an error in the structure of an llm_response.\n",
    "Here is the original request:\n",
    "<original_prompt>\n",
    "{original_prompt}\n",
    "</original_prompt>\n",
    "\n",
    "Here is the original llm_response:\n",
    "<llm_response>\n",
    "{original_response}\n",
    "</llm_response>\n",
    "\n",
    "This response generated an error: \n",
    "<error_message>\n",
    "{error_message}\n",
    "</error_message>\n",
    "\n",
    "Compare the error message and the llm_response and identify what \n",
    "needs to be fixed or removed\n",
    "in the llm_response to resolve this error. \n",
    "\n",
    "Respond ONLY with valid JSON. Do not include any explanations or \n",
    "other text or formatting before or after the JSON string.\n",
    "\"\"\"\n",
    "    return retry_prompt"
   ]
  },
  {
   "cell_type": "code",
   "execution_count": 46,
   "id": "5bff8012",
   "metadata": {},
   "outputs": [
    {
     "name": "stdout",
     "output_type": "stream",
     "text": [
      "\n",
      "This is a request to fix an error in the structure of an llm_response.\n",
      "Here is the original request:\n",
      "<original_prompt>\n",
      "\n",
      "Please analyze this user query\n",
      " {\n",
      "  \"name\": \"Jan Uzytkownik\",\n",
      "  \"email\": \"jan.uzytkownik@example.com\",\n",
      "  \"query\": \"I forgot my password. Treat this very urgently please.\",\n",
      "  \"order_id\": null,\n",
      "  \"transaction_date\": null\n",
      "}:\n",
      "\n",
      "Return your analysis as a JSON object matching this exact structure \n",
      "and data types:\n",
      "\n",
      "{\n",
      "    \"name\": \"Jan Uzytkownik\",\n",
      "    \"email\": \"jan.uzytkownik@example.com\",\n",
      "    \"query\": \"I forgot my password.\",\n",
      "    \"order_number\": 12345,\n",
      "    \"purchase_date\": \"2023-01-01\",\n",
      "    department: \"Support\",\n",
      "    category: \"technical\",\n",
      "    priority: \"high\",\n",
      "    tags: [\"password\", \"login\", \"account\"]\n",
      "}\n",
      "\n",
      "\n",
      "Respond ONLY with valid JSON. Do not include any explanations or \n",
      "other text or formatting before or after the JSON object.\n",
      "\n",
      "</original_prompt>\n",
      "\n",
      "Here is the original llm_response:\n",
      "<llm_response>\n",
      "```json\n",
      "{\n",
      "    \"name\": \"Jan Uzytkownik\",\n",
      "    \"email\": \"jan.uzytkownik@example.com\",\n",
      "    \"query\": \"I forgot my password.\",\n",
      "    \"order_number\": null,\n",
      "    \"purchase_date\": null,\n",
      "    \"department\": \"Support\",\n",
      "    \"category\": \"technical\",\n",
      "    \"priority\": \"high\",\n",
      "    \"tags\": [\"password\", \"login\", \"account\"]\n",
      "}\n",
      "```\n",
      "</llm_response>\n",
      "\n",
      "This response generated an error: \n",
      "<error_message>\n",
      "[\n",
      "  {\n",
      "    \"type\": \"json_invalid\",\n",
      "    \"loc\": [],\n",
      "    \"msg\": \"Invalid JSON: expected value at line 1 column 1\",\n",
      "    \"input\": \"```json\\n{\\n    \\\"name\\\": \\\"Jan Uzytkownik\\\",\\n    \\\"email\\\": \\\"jan.uzytkownik@example.com\\\",\\n    \\\"query\\\": \\\"I forgot my password.\\\",\\n    \\\"order_number\\\": null,\\n    \\\"purchase_date\\\": null,\\n    \\\"department\\\": \\\"Support\\\",\\n    \\\"category\\\": \\\"technical\\\",\\n    \\\"priority\\\": \\\"high\\\",\\n    \\\"tags\\\": [\\\"password\\\", \\\"login\\\", \\\"account\\\"]\\n}\\n```\",\n",
      "    \"ctx\": {\n",
      "      \"error\": \"expected value at line 1 column 1\"\n",
      "    },\n",
      "    \"url\": \"https://errors.pydantic.dev/2.11/v/json_invalid\"\n",
      "  }\n",
      "]\n",
      "</error_message>\n",
      "\n",
      "Compare the error message and the llm_response and identify what \n",
      "needs to be fixed or removed\n",
      "in the llm_response to resolve this error. \n",
      "\n",
      "Respond ONLY with valid JSON. Do not include any explanations or \n",
      "other text or formatting before or after the JSON string.\n",
      "\n"
     ]
    }
   ],
   "source": [
    "# Create a retry prompt for validation errors\n",
    "validation_retry_prompt = create_retry_prompt(\n",
    "    original_prompt=prompt,\n",
    "    original_response=response_content,\n",
    "    error_message=validation_error\n",
    ")\n",
    "\n",
    "print(validation_retry_prompt)"
   ]
  },
  {
   "cell_type": "code",
   "execution_count": 47,
   "id": "5eb0513a",
   "metadata": {},
   "outputs": [
    {
     "name": "stdout",
     "output_type": "stream",
     "text": [
      "{\n",
      "    \"name\": \"Jan Uzytkownik\",\n",
      "    \"email\": \"jan.uzytkownik@example.com\",\n",
      "    \"query\": \"I forgot my password.\",\n",
      "    \"order_number\": 12345,\n",
      "    \"purchase_date\": \"2023-01-01\",\n",
      "    \"department\": \"Support\",\n",
      "    \"category\": \"technical\",\n",
      "    \"priority\": \"high\",\n",
      "    \"tags\": [\"password\", \"login\", \"account\"]\n",
      "}\n"
     ]
    }
   ],
   "source": [
    "# Call the LLM with the validation retry prompt\n",
    "validation_retry_response = call_llm(validation_retry_prompt)\n",
    "print(validation_retry_response)"
   ]
  },
  {
   "cell_type": "markdown",
   "id": "786bb479",
   "metadata": {},
   "source": [
    "Wow! It works! We got what looks like proper JSON back. Let's validate it."
   ]
  },
  {
   "cell_type": "code",
   "execution_count": 48,
   "id": "7d63818b",
   "metadata": {},
   "outputs": [
    {
     "name": "stdout",
     "output_type": "stream",
     "text": [
      "data validation successful!\n",
      "{\n",
      "  \"name\": \"Jan Uzytkownik\",\n",
      "  \"email\": \"jan.uzytkownik@example.com\",\n",
      "  \"query\": \"I forgot my password.\",\n",
      "  \"order_id\": null,\n",
      "  \"transaction_date\": null,\n",
      "  \"department\": \"Support\",\n",
      "  \"category\": \"technical\",\n",
      "  \"priority\": \"high\",\n",
      "  \"tags\": [\n",
      "    \"password\",\n",
      "    \"login\",\n",
      "    \"account\"\n",
      "  ]\n",
      "}\n"
     ]
    }
   ],
   "source": [
    "# Attempt to validate retry response from LLM\n",
    "validated_data, validation_error = validate_with_model(\n",
    "    CustomerQuery, validation_retry_response\n",
    ")"
   ]
  },
  {
   "cell_type": "markdown",
   "id": "a12db1c5",
   "metadata": {},
   "source": [
    "Data validation successful!\n",
    "\n",
    "What if there was still an issue? It would be good to have a function that keeps trying new prompts to resolve it (but also that does not end up in an infinite loop - it could be very co$$$$tly!!!)"
   ]
  },
  {
   "cell_type": "code",
   "execution_count": 49,
   "id": "d2fb2959",
   "metadata": {},
   "outputs": [
    {
     "name": "stdout",
     "output_type": "stream",
     "text": [
      "\n",
      "This is a request to fix an error in the structure of an llm_response.\n",
      "Here is the original request:\n",
      "<original_prompt>\n",
      "\n",
      "This is a request to fix an error in the structure of an llm_response.\n",
      "Here is the original request:\n",
      "<original_prompt>\n",
      "\n",
      "Please analyze this user query\n",
      " {\n",
      "  \"name\": \"Jan Uzytkownik\",\n",
      "  \"email\": \"jan.uzytkownik@example.com\",\n",
      "  \"query\": \"I forgot my password. Treat this very urgently please.\",\n",
      "  \"order_id\": null,\n",
      "  \"transaction_date\": null\n",
      "}:\n",
      "\n",
      "Return your analysis as a JSON object matching this exact structure \n",
      "and data types:\n",
      "\n",
      "{\n",
      "    \"name\": \"Jan Uzytkownik\",\n",
      "    \"email\": \"jan.uzytkownik@example.com\",\n",
      "    \"query\": \"I forgot my password.\",\n",
      "    \"order_number\": 12345,\n",
      "    \"purchase_date\": \"2023-01-01\",\n",
      "    department: \"Support\",\n",
      "    category: \"technical\",\n",
      "    priority: \"high\",\n",
      "    tags: [\"password\", \"login\", \"account\"]\n",
      "}\n",
      "\n",
      "\n",
      "Respond ONLY with valid JSON. Do not include any explanations or \n",
      "other text or formatting before or after the JSON object.\n",
      "\n",
      "</original_prompt>\n",
      "\n",
      "Here is the original llm_response:\n",
      "<llm_response>\n",
      "```json\n",
      "{\n",
      "    \"name\": \"Jan Uzytkownik\",\n",
      "    \"email\": \"jan.uzytkownik@example.com\",\n",
      "    \"query\": \"I forgot my password.\",\n",
      "    \"order_number\": null,\n",
      "    \"purchase_date\": null,\n",
      "    \"department\": \"Support\",\n",
      "    \"category\": \"technical\",\n",
      "    \"priority\": \"high\",\n",
      "    \"tags\": [\"password\", \"login\", \"account\"]\n",
      "}\n",
      "```\n",
      "</llm_response>\n",
      "\n",
      "This response generated an error: \n",
      "<error_message>\n",
      "[\n",
      "  {\n",
      "    \"type\": \"json_invalid\",\n",
      "    \"loc\": [],\n",
      "    \"msg\": \"Invalid JSON: expected value at line 1 column 1\",\n",
      "    \"input\": \"```json\\n{\\n    \\\"name\\\": \\\"Jan Uzytkownik\\\",\\n    \\\"email\\\": \\\"jan.uzytkownik@example.com\\\",\\n    \\\"query\\\": \\\"I forgot my password.\\\",\\n    \\\"order_number\\\": null,\\n    \\\"purchase_date\\\": null,\\n    \\\"department\\\": \\\"Support\\\",\\n    \\\"category\\\": \\\"technical\\\",\\n    \\\"priority\\\": \\\"high\\\",\\n    \\\"tags\\\": [\\\"password\\\", \\\"login\\\", \\\"account\\\"]\\n}\\n```\",\n",
      "    \"ctx\": {\n",
      "      \"error\": \"expected value at line 1 column 1\"\n",
      "    },\n",
      "    \"url\": \"https://errors.pydantic.dev/2.11/v/json_invalid\"\n",
      "  }\n",
      "]\n",
      "</error_message>\n",
      "\n",
      "Compare the error message and the llm_response and identify what \n",
      "needs to be fixed or removed\n",
      "in the llm_response to resolve this error. \n",
      "\n",
      "Respond ONLY with valid JSON. Do not include any explanations or \n",
      "other text or formatting before or after the JSON string.\n",
      "\n",
      "</original_prompt>\n",
      "\n",
      "Here is the original llm_response:\n",
      "<llm_response>\n",
      "{\n",
      "    \"name\": \"Jan Uzytkownik\",\n",
      "    \"email\": \"jan.uzytkownik@example.com\",\n",
      "    \"query\": \"I forgot my password.\",\n",
      "    \"order_number\": 12345,\n",
      "    \"purchase_date\": \"2023-01-01\",\n",
      "    \"department\": \"Support\",\n",
      "    \"category\": \"technical\",\n",
      "    \"priority\": \"high\",\n",
      "    \"tags\": [\"password\", \"login\", \"account\"]\n",
      "}\n",
      "</llm_response>\n",
      "\n",
      "This response generated an error: \n",
      "<error_message>\n",
      "None\n",
      "</error_message>\n",
      "\n",
      "Compare the error message and the llm_response and identify what \n",
      "needs to be fixed or removed\n",
      "in the llm_response to resolve this error. \n",
      "\n",
      "Respond ONLY with valid JSON. Do not include any explanations or \n",
      "other text or formatting before or after the JSON string.\n",
      "\n"
     ]
    }
   ],
   "source": [
    "# Create a second retry prompt for validation errors\n",
    "second_validation_retry_prompt = create_retry_prompt(\n",
    "    original_prompt=validation_retry_prompt,\n",
    "    original_response=validation_retry_response,\n",
    "    error_message=validation_error\n",
    ")\n",
    "\n",
    "print(second_validation_retry_prompt)"
   ]
  },
  {
   "cell_type": "code",
   "execution_count": 50,
   "id": "8d1288f8",
   "metadata": {},
   "outputs": [
    {
     "name": "stdout",
     "output_type": "stream",
     "text": [
      "```json\n",
      "{\n",
      "    \"name\": \"Jan Uzytkownik\",\n",
      "    \"email\": \"jan.uzytkownik@example.com\",\n",
      "    \"query\": \"I forgot my password.\",\n",
      "    \"order_number\": 12345,\n",
      "    \"purchase_date\": \"2023-01-01\",\n",
      "    \"department\": \"Support\",\n",
      "    \"category\": \"technical\",\n",
      "    \"priority\": \"high\",\n",
      "    \"tags\": [\"password\", \"login\", \"account\"]\n",
      "}\n",
      "```\n"
     ]
    }
   ],
   "source": [
    "# Call the LLM with the second validation retry prompt\n",
    "second_validation_retry_response = call_llm(\n",
    "    second_validation_retry_prompt\n",
    ")\n",
    "print(second_validation_retry_response)"
   ]
  },
  {
   "cell_type": "markdown",
   "id": "7d660491",
   "metadata": {},
   "source": [
    "The function below will try 5 times to obtain a response in a valid format. Because LLMs are probabilistic, we don't know how many attempts will be required. LLMs don't do the same thing every time."
   ]
  },
  {
   "cell_type": "code",
   "execution_count": 51,
   "id": "ed9ca2ab",
   "metadata": {},
   "outputs": [],
   "source": [
    "def validate_llm_response(\n",
    "    prompt, data_model, n_retry=5, model=\"gpt-4o\"\n",
    "):\n",
    "    # Initial LLM call\n",
    "    response_content = call_llm(prompt, model=model)\n",
    "    current_prompt = prompt\n",
    "\n",
    "    # Try to validate with the model\n",
    "    # attempt: 0=initial, 1=first retry, ...\n",
    "    for attempt in range(n_retry + 1):\n",
    "\n",
    "        validated_data, validation_error = validate_with_model(\n",
    "            data_model, response_content\n",
    "        )\n",
    "\n",
    "        if validation_error:\n",
    "            if attempt < n_retry:\n",
    "                print(f\"retry {attempt} of {n_retry} failed, trying again...\")\n",
    "            else:\n",
    "                print(f\"Max retries reached. Last error: {validation_error}\")\n",
    "                return None, (\n",
    "                    f\"Max retries reached. Last error: {validation_error}\"\n",
    "                )\n",
    "\n",
    "            validation_retry_prompt = create_retry_prompt(\n",
    "                original_prompt=current_prompt,\n",
    "                original_response=response_content,\n",
    "                error_message=validation_error\n",
    "            )\n",
    "            response_content = call_llm(\n",
    "                validation_retry_prompt, model=model\n",
    "            )\n",
    "            current_prompt = validation_retry_prompt\n",
    "            continue\n",
    "\n",
    "        # If you get here, both parsing and validation succeeded\n",
    "        return validated_data, None"
   ]
  },
  {
   "cell_type": "code",
   "execution_count": 52,
   "id": "810eab80",
   "metadata": {},
   "outputs": [
    {
     "name": "stdout",
     "output_type": "stream",
     "text": [
      "❌ Validation errors found:\n",
      "[\n",
      "  {\n",
      "    \"type\": \"json_invalid\",\n",
      "    \"loc\": [],\n",
      "    \"msg\": \"Invalid JSON: expected value at line 1 column 1\",\n",
      "    \"input\": \"```json\\n{\\n    \\\"name\\\": \\\"Jan Uzytkownik\\\",\\n    \\\"email\\\": \\\"jan.uzytkownik@example.com\\\",\\n    \\\"query\\\": \\\"I forgot my password. Treat this very urgently please.\\\",\\n    \\\"order_number\\\": null,\\n    \\\"purchase_date\\\": null,\\n    \\\"department\\\": \\\"Support\\\",\\n    \\\"category\\\": \\\"technical\\\",\\n    \\\"priority\\\": \\\"high\\\",\\n    \\\"tags\\\": [\\\"password\\\", \\\"login\\\", \\\"account\\\"]\\n}\\n```\",\n",
      "    \"ctx\": {\n",
      "      \"error\": \"expected value at line 1 column 1\"\n",
      "    },\n",
      "    \"url\": \"https://errors.pydantic.dev/2.11/v/json_invalid\"\n",
      "  }\n",
      "]\n",
      "retry 0 of 5 failed, trying again...\n",
      "data validation successful!\n",
      "{\n",
      "  \"name\": \"Jan Uzytkownik\",\n",
      "  \"email\": \"jan.uzytkownik@example.com\",\n",
      "  \"query\": \"I forgot my password.\",\n",
      "  \"order_id\": null,\n",
      "  \"transaction_date\": null,\n",
      "  \"department\": \"Support\",\n",
      "  \"category\": \"technical\",\n",
      "  \"priority\": \"high\",\n",
      "  \"tags\": [\n",
      "    \"password\",\n",
      "    \"login\",\n",
      "    \"account\"\n",
      "  ]\n",
      "}\n"
     ]
    }
   ],
   "source": [
    "# Test your complete solution with the original prompt\n",
    "validated_data, error = validate_llm_response(\n",
    "    prompt, CustomerQuery\n",
    ")"
   ]
  },
  {
   "cell_type": "code",
   "execution_count": null,
   "id": "e35810e7",
   "metadata": {},
   "outputs": [
    {
     "data": {
      "text/plain": [
       "CustomerQuery(name='Jan Uzytkownik', email='jan.uzytkownik@example.com', query='I forgot my password.', order_id=None, transaction_date=None, department='Support', category='technical', priority='high', tags=['password', 'login', 'account'])"
      ]
     },
     "execution_count": 53,
     "metadata": {},
     "output_type": "execute_result"
    }
   ],
   "source": [
    "#Pydantic model of validated data\n",
    "validated_data"
   ]
  },
  {
   "cell_type": "markdown",
   "id": "c0ea3581",
   "metadata": {},
   "source": [
    "What's interesting is that sometimes it needs 2, 3 and sometimes 5 attempts.Let's take a look at the validated data in JSON format."
   ]
  },
  {
   "cell_type": "markdown",
   "id": "4a0d2e48",
   "metadata": {},
   "source": [
    "## Another approach to this method - \n",
    "print out the JSON schema of a Pydantic model and include it in the prompt so that the LLM can see exactly what is expected. An LLM will be able to parse it."
   ]
  },
  {
   "cell_type": "code",
   "execution_count": 54,
   "id": "63bddc74",
   "metadata": {},
   "outputs": [
    {
     "name": "stdout",
     "output_type": "stream",
     "text": [
      "{\n",
      "  \"properties\": {\n",
      "    \"name\": {\n",
      "      \"title\": \"Name\",\n",
      "      \"type\": \"string\"\n",
      "    },\n",
      "    \"email\": {\n",
      "      \"format\": \"email\",\n",
      "      \"title\": \"Email\",\n",
      "      \"type\": \"string\"\n",
      "    },\n",
      "    \"query\": {\n",
      "      \"title\": \"Query\",\n",
      "      \"type\": \"string\"\n",
      "    },\n",
      "    \"order_id\": {\n",
      "      \"anyOf\": [\n",
      "        {\n",
      "          \"maximum\": 99999,\n",
      "          \"minimum\": 10000,\n",
      "          \"type\": \"integer\"\n",
      "        },\n",
      "        {\n",
      "          \"type\": \"null\"\n",
      "        }\n",
      "      ],\n",
      "      \"default\": null,\n",
      "      \"description\": \"5-digit order number (cannot start with 0)\",\n",
      "      \"title\": \"Order Id\"\n",
      "    },\n",
      "    \"transaction_date\": {\n",
      "      \"anyOf\": [\n",
      "        {\n",
      "          \"format\": \"date\",\n",
      "          \"type\": \"string\"\n",
      "        },\n",
      "        {\n",
      "          \"type\": \"null\"\n",
      "        }\n",
      "      ],\n",
      "      \"default\": null,\n",
      "      \"title\": \"Transaction Date\"\n",
      "    },\n",
      "    \"department\": {\n",
      "      \"description\": \"Department to route the query to\",\n",
      "      \"title\": \"Department\",\n",
      "      \"type\": \"string\"\n",
      "    },\n",
      "    \"category\": {\n",
      "      \"description\": \"Category of the query - billing, technical, or general\",\n",
      "      \"enum\": [\n",
      "        \"billing\",\n",
      "        \"technical\",\n",
      "        \"general\"\n",
      "      ],\n",
      "      \"title\": \"Category\",\n",
      "      \"type\": \"string\"\n",
      "    },\n",
      "    \"priority\": {\n",
      "      \"description\": \"Priority level of the query\",\n",
      "      \"enum\": [\n",
      "        \"low\",\n",
      "        \"medium\",\n",
      "        \"high\"\n",
      "      ],\n",
      "      \"title\": \"Priority\",\n",
      "      \"type\": \"string\"\n",
      "    },\n",
      "    \"tags\": {\n",
      "      \"anyOf\": [\n",
      "        {\n",
      "          \"items\": {\n",
      "            \"type\": \"string\"\n",
      "          },\n",
      "          \"maxItems\": 5,\n",
      "          \"type\": \"array\"\n",
      "        },\n",
      "        {\n",
      "          \"type\": \"null\"\n",
      "        }\n",
      "      ],\n",
      "      \"description\": \"Up to 5 keyword tags\",\n",
      "      \"title\": \"Tags\"\n",
      "    }\n",
      "  },\n",
      "  \"required\": [\n",
      "    \"name\",\n",
      "    \"email\",\n",
      "    \"query\",\n",
      "    \"department\",\n",
      "    \"category\",\n",
      "    \"priority\",\n",
      "    \"tags\"\n",
      "  ],\n",
      "  \"title\": \"CustomerQuery\",\n",
      "  \"type\": \"object\"\n",
      "}\n"
     ]
    }
   ],
   "source": [
    "# Investigate the model_json_schema for CustomerQuery\n",
    "data_model_schema = json.dumps(\n",
    "    CustomerQuery.model_json_schema(), indent=2\n",
    ")\n",
    "print(data_model_schema)"
   ]
  },
  {
   "cell_type": "code",
   "execution_count": 55,
   "id": "66c973cb",
   "metadata": {},
   "outputs": [
    {
     "name": "stdout",
     "output_type": "stream",
     "text": [
      "\n",
      "Please analyze this user query\n",
      " {\n",
      "  \"name\": \"Jan Uzytkownik\",\n",
      "  \"email\": \"jan.uzytkownik@example.com\",\n",
      "  \"query\": \"I forgot my password. Treat this very urgently please.\",\n",
      "  \"order_id\": null,\n",
      "  \"transaction_date\": null\n",
      "}:\n",
      "\n",
      "Return your analysis as a JSON object matching this exact structure \n",
      "and data types:\n",
      "\n",
      "{\n",
      "    \"name\": \"Jan Uzytkownik\",\n",
      "    \"email\": \"jan.uzytkownik@example.com\",\n",
      "    \"query\": \"I forgot my password.\",\n",
      "    \"order_number\": 12345,\n",
      "    \"purchase_date\": \"2023-01-01\",\n",
      "    department: \"Support\",\n",
      "    category: \"technical\",\n",
      "    priority: \"high\",\n",
      "    tags: [\"password\", \"login\", \"account\"]\n",
      "}\n",
      "\n",
      "\n",
      "Respond ONLY with valid JSON. Do not include any explanations or \n",
      "other text or formatting before or after the JSON object.\n",
      "\n"
     ]
    }
   ],
   "source": [
    "# Print the original prompt from above\n",
    "print(prompt)"
   ]
  },
  {
   "cell_type": "markdown",
   "id": "e32f7770",
   "metadata": {},
   "source": [
    "### New, improved prompt that includes the Pydantic schema in JSON format in the prompt"
   ]
  },
  {
   "cell_type": "code",
   "execution_count": 56,
   "id": "de38b191",
   "metadata": {},
   "outputs": [],
   "source": [
    "# Create new prompt with user input and model_json_schema\n",
    "prompt = f\"\"\"\n",
    "Please analyze this user query\\n {user_input.model_dump_json(indent=2)}:\n",
    "\n",
    "Return your analysis as a JSON object matching the following schema:\n",
    "{data_model_schema}\n",
    "\n",
    "Respond ONLY with valid JSON. Do not include any explanations or \n",
    "other text or formatting before or after the JSON object.\n",
    "\"\"\""
   ]
  },
  {
   "cell_type": "markdown",
   "id": "0fde7189",
   "metadata": {},
   "source": [
    "This should work better than the first approach..."
   ]
  },
  {
   "cell_type": "code",
   "execution_count": 58,
   "id": "808b2d7f",
   "metadata": {},
   "outputs": [
    {
     "name": "stdout",
     "output_type": "stream",
     "text": [
      "❌ Validation errors found:\n",
      "[\n",
      "  {\n",
      "    \"type\": \"json_invalid\",\n",
      "    \"loc\": [],\n",
      "    \"msg\": \"Invalid JSON: expected value at line 1 column 1\",\n",
      "    \"input\": \"```json\\n{\\n  \\\"name\\\": \\\"Jan Uzytkownik\\\",\\n  \\\"email\\\": \\\"jan.uzytkownik@example.com\\\",\\n  \\\"query\\\": \\\"I forgot my password. Treat this very urgently please.\\\",\\n  \\\"order_id\\\": null,\\n  \\\"transaction_date\\\": null,\\n  \\\"department\\\": \\\"technical support\\\",\\n  \\\"category\\\": \\\"technical\\\",\\n  \\\"priority\\\": \\\"high\\\",\\n  \\\"tags\\\": [\\\"password\\\", \\\"urgent\\\", \\\"technical issue\\\"]\\n}\\n```\",\n",
      "    \"ctx\": {\n",
      "      \"error\": \"expected value at line 1 column 1\"\n",
      "    },\n",
      "    \"url\": \"https://errors.pydantic.dev/2.11/v/json_invalid\"\n",
      "  }\n",
      "]\n",
      "retry 0 of 5 failed, trying again...\n",
      "data validation successful!\n",
      "{\n",
      "  \"name\": \"Jan Uzytkownik\",\n",
      "  \"email\": \"jan.uzytkownik@example.com\",\n",
      "  \"query\": \"I forgot my password. Treat this very urgently please.\",\n",
      "  \"order_id\": null,\n",
      "  \"transaction_date\": null,\n",
      "  \"department\": \"technical support\",\n",
      "  \"category\": \"technical\",\n",
      "  \"priority\": \"high\",\n",
      "  \"tags\": [\n",
      "    \"password\",\n",
      "    \"urgent\",\n",
      "    \"technical issue\"\n",
      "  ]\n",
      "}\n"
     ]
    }
   ],
   "source": [
    "# Run your validate_llm_response function with the new prompt\n",
    "final_analysis, error = validate_llm_response(\n",
    "    prompt, CustomerQuery\n",
    ")"
   ]
  },
  {
   "cell_type": "markdown",
   "id": "943d12f8",
   "metadata": {},
   "source": [
    "It usually requires only 1 retry."
   ]
  },
  {
   "cell_type": "code",
   "execution_count": null,
   "id": "d85fd27f",
   "metadata": {},
   "outputs": [],
   "source": []
  }
 ],
 "metadata": {
  "kernelspec": {
   "display_name": ".venv (3.13.2)",
   "language": "python",
   "name": "python3"
  },
  "language_info": {
   "codemirror_mode": {
    "name": "ipython",
    "version": 3
   },
   "file_extension": ".py",
   "mimetype": "text/x-python",
   "name": "python",
   "nbconvert_exporter": "python",
   "pygments_lexer": "ipython3",
   "version": "3.13.2"
  }
 },
 "nbformat": 4,
 "nbformat_minor": 5
}
