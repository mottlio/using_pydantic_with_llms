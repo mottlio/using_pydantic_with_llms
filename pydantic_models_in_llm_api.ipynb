{
 "cells": [
  {
   "cell_type": "markdown",
   "id": "1d81e9cc",
   "metadata": {},
   "source": [
    "# Passing the Pydantic model directly in the API call to LLMs"
   ]
  },
  {
   "cell_type": "markdown",
   "id": "7e56a479",
   "metadata": {},
   "source": [
    "Import all required libraries"
   ]
  },
  {
   "cell_type": "code",
   "execution_count": 25,
   "id": "86eef1c2",
   "metadata": {},
   "outputs": [],
   "source": [
    "# Import packages\n",
    "from pydantic import BaseModel, Field, EmailStr\n",
    "from typing import List, Literal, Optional\n",
    "from openai import OpenAI\n",
    "# instructor is a library for extracting structured data from Large Language Models (LLMs). It is built on top of Pydantic.\n",
    "# instructor extracts the JSON schema from a Pydantic model and passes it in the prompt. It handles retries and parsing of the response.\n",
    "# Instructor takes a 'response_model' parameter in the API call, which is a Pydantic model that defines the structure of the expected response.\n",
    "import instructor\n",
    "import anthropic\n",
    "from dotenv import load_dotenv\n",
    "from datetime import date\n",
    "import os\n",
    "\n",
    "load_dotenv()\n",
    "\n",
    "ANTHROPIC_API_KEY = os.getenv(\"ANTHROPIC_API_KEY\")\n",
    "OPENAI_API_KEY = os.getenv(\"OPENAI_API_KEY\")"
   ]
  },
  {
   "cell_type": "code",
   "execution_count": 26,
   "id": "7745d730",
   "metadata": {},
   "outputs": [],
   "source": [
    "# Define the UserInput model for customer support queries\n",
    "class UserInput(BaseModel):\n",
    "    name: str\n",
    "    email: EmailStr\n",
    "    query: str\n",
    "    order_id: Optional[int] = Field(\n",
    "        # Default value is None\n",
    "        None,\n",
    "        description=\"5-digit order number (cannot start with 0)\",\n",
    "        #Greater or equal to 10000 and less than or equal to 99999\n",
    "        ge=10000,\n",
    "        le=99999\n",
    "    )\n",
    "    purchase_date: Optional[date] = None\n",
    "\n",
    "# Define the CustomerQuery model that inherits from UserInput. It adds fields that will be populated by the LLM for priority, category, complaint status, and tags.\n",
    "class CustomerQuery(UserInput):\n",
    "    priority: str = Field(\n",
    "        ..., description=\"Priority level: low, medium, high\"\n",
    "    )\n",
    "    category: Literal[\n",
    "        'refund_request', 'information_request', 'other'\n",
    "    ] = Field(..., description=\"Query category\")\n",
    "    is_complaint: bool = Field(\n",
    "        ..., description=\"Whether this is a complaint\"\n",
    "    )\n",
    "    tags: List[str] = Field(..., description=\"Relevant keyword tags\")"
   ]
  },
  {
   "cell_type": "code",
   "execution_count": 27,
   "id": "77ef6723",
   "metadata": {},
   "outputs": [],
   "source": [
    "# Create a sample user input as a JSON string\n",
    "user_input_json = '''{\n",
    "    \"name\": \"Ula Dobra\",\n",
    "    \"email\": \"ula.dobra@podlasem.com\",\n",
    "    \"query\": \"I would like to know the status of my order.\",\n",
    "    \"order_id\": 87647,\n",
    "    \"purchase_date\": \"2025-01-01\"\n",
    "}'''\n",
    "\n"
   ]
  },
  {
   "cell_type": "code",
   "execution_count": 28,
   "id": "2068884f",
   "metadata": {},
   "outputs": [
    {
     "name": "stdout",
     "output_type": "stream",
     "text": [
      "User Input:\n",
      "name='Ula Dobra' email='ula.dobra@podlasem.com' query='I would like to know the status of my order.' order_id=87647 purchase_date=datetime.date(2025, 1, 1)\n"
     ]
    }
   ],
   "source": [
    "#Validate the user input against the UserInput model using the model_validate_json method\n",
    "user_input = UserInput.model_validate_json(user_input_json)\n",
    "print(\"User Input:\")\n",
    "print(user_input)\n"
   ]
  },
  {
   "cell_type": "markdown",
   "id": "bbc43b47",
   "metadata": {},
   "source": [
    "When using this method, we'll rely on Instructor to pass the JSON schema of the Pydantic model in the API call. "
   ]
  },
  {
   "cell_type": "code",
   "execution_count": 29,
   "id": "a72058ab",
   "metadata": {},
   "outputs": [],
   "source": [
    "#No mention of the desired data structure in the prompt. Instructor will handle that.\n",
    "prompt = (\n",
    "    f\"Analyze the following customer query {user_input} \"\n",
    "    f\"and provide a structured response.\"\n",
    ")"
   ]
  },
  {
   "cell_type": "code",
   "execution_count": 30,
   "id": "31f7f99d",
   "metadata": {},
   "outputs": [],
   "source": [
    "\n",
    "# Use Anthropic with Instructor to get structured output\n",
    "anthropic_client = instructor.from_anthropic(\n",
    "    anthropic.Anthropic(api_key=ANTHROPIC_API_KEY)\n",
    ")\n",
    "\n",
    "response = anthropic_client.messages.create(\n",
    "    model=\"claude-3-7-sonnet-latest\",  \n",
    "    max_tokens=1024,\n",
    "    messages=[\n",
    "        {\n",
    "            \"role\": \"user\", \n",
    "            \"content\": prompt\n",
    "        }\n",
    "    ],\n",
    "    response_model=CustomerQuery  \n",
    ")"
   ]
  },
  {
   "cell_type": "code",
   "execution_count": 31,
   "id": "3f570a8d",
   "metadata": {},
   "outputs": [
    {
     "name": "stdout",
     "output_type": "stream",
     "text": [
      "name='Ula Dobra' email='ula.dobra@podlasem.com' query='I would like to know the status of my order.' order_id=87647 purchase_date=datetime.date(2025, 1, 1) priority='medium' category='information_request' is_complaint=False tags=['order status', 'inquiry']\n"
     ]
    }
   ],
   "source": [
    "print(response)"
   ]
  }
 ],
 "metadata": {
  "kernelspec": {
   "display_name": ".venv (3.13.2)",
   "language": "python",
   "name": "python3"
  },
  "language_info": {
   "codemirror_mode": {
    "name": "ipython",
    "version": 3
   },
   "file_extension": ".py",
   "mimetype": "text/x-python",
   "name": "python",
   "nbconvert_exporter": "python",
   "pygments_lexer": "ipython3",
   "version": "3.13.2"
  }
 },
 "nbformat": 4,
 "nbformat_minor": 5
}
